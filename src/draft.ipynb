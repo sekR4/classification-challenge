{
 "cells": [
  {
   "cell_type": "code",
   "execution_count": 13,
   "metadata": {},
   "outputs": [],
   "source": [
    "import pandas as pd\n",
    "import numpy as np\n",
    "import matplotlib.pyplot as plt\n",
    "import seaborn as sns"
   ]
  },
  {
   "cell_type": "code",
   "execution_count": 2,
   "metadata": {},
   "outputs": [
    {
     "data": {
      "text/html": [
       "<div>\n",
       "<style scoped>\n",
       "    .dataframe tbody tr th:only-of-type {\n",
       "        vertical-align: middle;\n",
       "    }\n",
       "\n",
       "    .dataframe tbody tr th {\n",
       "        vertical-align: top;\n",
       "    }\n",
       "\n",
       "    .dataframe thead th {\n",
       "        text-align: right;\n",
       "    }\n",
       "</style>\n",
       "<table border=\"1\" class=\"dataframe\">\n",
       "  <thead>\n",
       "    <tr style=\"text-align: right;\">\n",
       "      <th></th>\n",
       "      <th>consumer</th>\n",
       "      <th>product</th>\n",
       "      <th>probability</th>\n",
       "    </tr>\n",
       "  </thead>\n",
       "  <tbody>\n",
       "    <tr>\n",
       "      <th>0</th>\n",
       "      <td>0</td>\n",
       "      <td>0</td>\n",
       "      <td>0.32</td>\n",
       "    </tr>\n",
       "    <tr>\n",
       "      <th>1</th>\n",
       "      <td>0</td>\n",
       "      <td>1</td>\n",
       "      <td>0.71</td>\n",
       "    </tr>\n",
       "    <tr>\n",
       "      <th>2</th>\n",
       "      <td>0</td>\n",
       "      <td>2</td>\n",
       "      <td>0.04</td>\n",
       "    </tr>\n",
       "  </tbody>\n",
       "</table>\n",
       "</div>"
      ],
      "text/plain": [
       "   consumer  product  probability\n",
       "0         0        0         0.32\n",
       "1         0        1         0.71\n",
       "2         0        2         0.04"
      ]
     },
     "execution_count": 2,
     "metadata": {},
     "output_type": "execute_result"
    }
   ],
   "source": [
    "predictions_template = pd.DataFrame(\n",
    "    {\n",
    "        \"consumer\": [0,0,0],\n",
    "        \"product\": [0, 1, 2], \n",
    "        \"probability\": [0.32, 0.71, 0.04]\n",
    "    }\n",
    ")\n",
    "predictions_template"
   ]
  },
  {
   "cell_type": "code",
   "execution_count": 3,
   "metadata": {},
   "outputs": [],
   "source": [
    "df = pd.read_csv(\"train.csv\")"
   ]
  },
  {
   "cell_type": "code",
   "execution_count": 4,
   "metadata": {},
   "outputs": [
    {
     "data": {
      "text/html": [
       "<div>\n",
       "<style scoped>\n",
       "    .dataframe tbody tr th:only-of-type {\n",
       "        vertical-align: middle;\n",
       "    }\n",
       "\n",
       "    .dataframe tbody tr th {\n",
       "        vertical-align: top;\n",
       "    }\n",
       "\n",
       "    .dataframe thead th {\n",
       "        text-align: right;\n",
       "    }\n",
       "</style>\n",
       "<table border=\"1\" class=\"dataframe\">\n",
       "  <thead>\n",
       "    <tr style=\"text-align: right;\">\n",
       "      <th></th>\n",
       "      <th>customer_id</th>\n",
       "      <th>product_id</th>\n",
       "      <th>price</th>\n",
       "      <th>week</th>\n",
       "    </tr>\n",
       "  </thead>\n",
       "  <tbody>\n",
       "    <tr>\n",
       "      <th>0</th>\n",
       "      <td>0</td>\n",
       "      <td>5</td>\n",
       "      <td>7.03</td>\n",
       "      <td>1</td>\n",
       "    </tr>\n",
       "    <tr>\n",
       "      <th>1</th>\n",
       "      <td>0</td>\n",
       "      <td>39</td>\n",
       "      <td>4.71</td>\n",
       "      <td>1</td>\n",
       "    </tr>\n",
       "    <tr>\n",
       "      <th>2</th>\n",
       "      <td>0</td>\n",
       "      <td>53</td>\n",
       "      <td>7.61</td>\n",
       "      <td>1</td>\n",
       "    </tr>\n",
       "  </tbody>\n",
       "</table>\n",
       "</div>"
      ],
      "text/plain": [
       "   customer_id  product_id  price  week\n",
       "0            0           5   7.03     1\n",
       "1            0          39   4.71     1\n",
       "2            0          53   7.61     1"
      ]
     },
     "execution_count": 4,
     "metadata": {},
     "output_type": "execute_result"
    }
   ],
   "source": [
    "df.head(3)"
   ]
  },
  {
   "cell_type": "code",
   "execution_count": 5,
   "metadata": {},
   "outputs": [
    {
     "data": {
      "text/plain": [
       "(307838, 4)"
      ]
     },
     "execution_count": 5,
     "metadata": {},
     "output_type": "execute_result"
    }
   ],
   "source": [
    "df.shape"
   ]
  },
  {
   "cell_type": "code",
   "execution_count": 34,
   "metadata": {},
   "outputs": [
    {
     "data": {
      "text/plain": [
       "0"
      ]
     },
     "execution_count": 34,
     "metadata": {},
     "output_type": "execute_result"
    }
   ],
   "source": [
    "len(df) - len(df.drop_duplicates())"
   ]
  },
  {
   "cell_type": "code",
   "execution_count": 6,
   "metadata": {},
   "outputs": [
    {
     "data": {
      "text/plain": [
       "1999"
      ]
     },
     "execution_count": 6,
     "metadata": {},
     "output_type": "execute_result"
    }
   ],
   "source": [
    "df.customer_id.unique().max()"
   ]
  },
  {
   "cell_type": "code",
   "execution_count": 7,
   "metadata": {},
   "outputs": [
    {
     "data": {
      "text/plain": [
       "49"
      ]
     },
     "execution_count": 7,
     "metadata": {},
     "output_type": "execute_result"
    }
   ],
   "source": [
    "df.week.max()"
   ]
  },
  {
   "cell_type": "code",
   "execution_count": 10,
   "metadata": {},
   "outputs": [
    {
     "data": {
      "text/plain": [
       "0.6"
      ]
     },
     "execution_count": 10,
     "metadata": {},
     "output_type": "execute_result"
    }
   ],
   "source": [
    "# Do prices change? Sure, they do\n",
    "np.mean([df[df.product_id == i].price.std() != 0 for i in df.product_id.unique()])"
   ]
  },
  {
   "cell_type": "code",
   "execution_count": 33,
   "metadata": {},
   "outputs": [
    {
     "data": {
      "image/png": "[encoded data removed]",
      "text/plain": [
       "<Figure size 432x288 with 1 Axes>"
      ]
     },
     "metadata": {
      "needs_background": "light"
     },
     "output_type": "display_data"
    }
   ],
   "source": [
    "# How many transactions per customer within 49 weeks?\n",
    "n_transactions_per_customer = [len(df[df.customer_id==i]) for i in df.customer_id.unique()]\n",
    "sns.histplot(n_transactions_per_customer).set(\n",
    "    title=f\"\"\"#transactions per customer with an average of {\n",
    "        round(np.mean(n_transactions_per_customer))\n",
    "        }\"\"\"\n",
    "    );plt.show()"
   ]
  },
  {
   "cell_type": "code",
   "execution_count": 38,
   "metadata": {},
   "outputs": [
    {
     "data": {
      "image/png": "[encoded data removed]",
      "text/plain": [
       "<Figure size 432x288 with 1 Axes>"
      ]
     },
     "metadata": {
      "needs_background": "light"
     },
     "output_type": "display_data"
    }
   ],
   "source": [
    "# How many transactions per product within 49 weeks?\n",
    "n_transactions_per_product = [len(df[df.product_id==i]) for i in df.product_id.unique()]\n",
    "sns.histplot(n_transactions_per_product, bins=25).set(\n",
    "    title=f\"\"\"#transactions per product with an average of {\n",
    "        round(np.mean(n_transactions_per_product))\n",
    "        }\"\"\"\n",
    "    );plt.show()\n",
    "\n",
    "# Some products were bought far more often than others"
   ]
  },
  {
   "cell_type": "code",
   "execution_count": 40,
   "metadata": {},
   "outputs": [
    {
     "data": {
      "image/png": "[encoded data removed]",
      "text/plain": [
       "<Figure size 432x288 with 1 Axes>"
      ]
     },
     "metadata": {
      "needs_background": "light"
     },
     "output_type": "display_data"
    }
   ],
   "source": [
    "# How much did each customer spend within 49 weeks?\n",
    "customer_spend = [df[df.customer_id==i].price.sum() for i in df.customer_id.unique()]\n",
    "sns.histplot(customer_spend).set(\n",
    "    title=f\"\"\"Customer spendings with an average of {\n",
    "        round(np.mean(customer_spend))\n",
    "        }\"\"\"\n",
    "    );plt.show()\n",
    "# Similar picture like n_transactions"
   ]
  },
  {
   "cell_type": "code",
   "execution_count": 43,
   "metadata": {},
   "outputs": [
    {
     "data": {
      "image/png": "[encoded data removed]",
      "text/plain": [
       "<Figure size 432x288 with 1 Axes>"
      ]
     },
     "metadata": {
      "needs_background": "light"
     },
     "output_type": "display_data"
    }
   ],
   "source": [
    "# How much return per product within 49 weeks?\n",
    "returns_per_product = [df[df.product_id==i].price.sum() for i in df.product_id.unique()]\n",
    "sns.histplot(returns_per_product, bins=20).set(\n",
    "    title=f\"\"\"Returns per product with an average of {\n",
    "        round(np.mean(returns_per_product))\n",
    "        }\"\"\"\n",
    "    );plt.show()\n",
    "\n",
    "# Similar picture like transactions per product"
   ]
  },
  {
   "cell_type": "code",
   "execution_count": 39,
   "metadata": {},
   "outputs": [],
   "source": [
    "# Customer Features (joins by id & id+week)\n",
    "customer_static_features = {\n",
    "    \"customer_id\" : [],\n",
    "    \"avg_n_transactions_weekly_customer\": [],\n",
    "    \"avg_spending_weekly\": [],\n",
    "    \"customer_segment\": [],\n",
    "}\n",
    "\n",
    "customer_dynamic_features = {\n",
    "    \"customer_id\": [],\n",
    "    \"week\": [],\n",
    "    \"n_transactions_last_week_customer\" : [],\n",
    "    \"sum_spending_last_week\": []\n",
    "}\n",
    "\n",
    "# Product Features (joins by id & id+week)\n",
    "product_static_features = {\n",
    "    \"product_id\" : [],\n",
    "    \"avg_n_transactions_weekly_product\": [],\n",
    "    \"avg_returns_weekly\": [],\n",
    "    \"product_segment\" : [],\n",
    "   \n",
    "}\n",
    "\n",
    "product_dynamic_features = {\n",
    "    \"product_id\" : [],\n",
    "    \"week\" : [],\n",
    "    \"n_transactions_last_week_product\" : [],\n",
    "    \"sum_returns_last_week\": [],\n",
    "    \"price_delta_to_last_week\": [] \n",
    "}"
   ]
  }
 ],
 "metadata": {
  "interpreter": {
   "hash": "e8f3b2c7d50702eb6cfa394ab0109290f078033daba50bedf970bce07023fb35"
  },
  "kernelspec": {
   "display_name": "Python 3.8.10 64-bit ('smp')",
   "language": "python",
   "name": "python3"
  },
  "language_info": {
   "codemirror_mode": {
    "name": "ipython",
    "version": 3
   },
   "file_extension": ".py",
   "mimetype": "text/x-python",
   "name": "python",
   "nbconvert_exporter": "python",
   "pygments_lexer": "ipython3",
   "version": "3.8.10"
  },
  "orig_nbformat": 4
 },
 "nbformat": 4,
 "nbformat_minor": 2
}
