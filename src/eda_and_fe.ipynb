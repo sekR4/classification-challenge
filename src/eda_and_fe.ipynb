{
 "cells": [
  {
   "cell_type": "code",
   "execution_count": 62,
   "metadata": {},
   "outputs": [],
   "source": [
    "import pandas as pd\n",
    "import numpy as np\n",
    "import matplotlib.pyplot as plt\n",
    "import seaborn as sns"
   ]
  },
  {
   "cell_type": "code",
   "execution_count": 63,
   "metadata": {},
   "outputs": [
    {
     "data": {
      "text/html": [
       "<div>\n",
       "<style scoped>\n",
       "    .dataframe tbody tr th:only-of-type {\n",
       "        vertical-align: middle;\n",
       "    }\n",
       "\n",
       "    .dataframe tbody tr th {\n",
       "        vertical-align: top;\n",
       "    }\n",
       "\n",
       "    .dataframe thead th {\n",
       "        text-align: right;\n",
       "    }\n",
       "</style>\n",
       "<table border=\"1\" class=\"dataframe\">\n",
       "  <thead>\n",
       "    <tr style=\"text-align: right;\">\n",
       "      <th></th>\n",
       "      <th>consumer</th>\n",
       "      <th>product</th>\n",
       "      <th>probability</th>\n",
       "    </tr>\n",
       "  </thead>\n",
       "  <tbody>\n",
       "    <tr>\n",
       "      <th>0</th>\n",
       "      <td>0</td>\n",
       "      <td>0</td>\n",
       "      <td>0.32</td>\n",
       "    </tr>\n",
       "    <tr>\n",
       "      <th>1</th>\n",
       "      <td>0</td>\n",
       "      <td>1</td>\n",
       "      <td>0.71</td>\n",
       "    </tr>\n",
       "    <tr>\n",
       "      <th>2</th>\n",
       "      <td>0</td>\n",
       "      <td>2</td>\n",
       "      <td>0.04</td>\n",
       "    </tr>\n",
       "  </tbody>\n",
       "</table>\n",
       "</div>"
      ],
      "text/plain": [
       "   consumer  product  probability\n",
       "0         0        0         0.32\n",
       "1         0        1         0.71\n",
       "2         0        2         0.04"
      ]
     },
     "execution_count": 63,
     "metadata": {},
     "output_type": "execute_result"
    }
   ],
   "source": [
    "predictions_template = pd.DataFrame(\n",
    "    {\n",
    "        \"consumer\": [0,0,0],\n",
    "        \"product\": [0, 1, 2], \n",
    "        \"probability\": [0.32, 0.71, 0.04]\n",
    "    }\n",
    ")\n",
    "predictions_template"
   ]
  },
  {
   "cell_type": "code",
   "execution_count": 64,
   "metadata": {},
   "outputs": [],
   "source": [
    "df = pd.read_csv(\"train.csv\")"
   ]
  },
  {
   "cell_type": "code",
   "execution_count": 65,
   "metadata": {},
   "outputs": [
    {
     "data": {
      "text/html": [
       "<div>\n",
       "<style scoped>\n",
       "    .dataframe tbody tr th:only-of-type {\n",
       "        vertical-align: middle;\n",
       "    }\n",
       "\n",
       "    .dataframe tbody tr th {\n",
       "        vertical-align: top;\n",
       "    }\n",
       "\n",
       "    .dataframe thead th {\n",
       "        text-align: right;\n",
       "    }\n",
       "</style>\n",
       "<table border=\"1\" class=\"dataframe\">\n",
       "  <thead>\n",
       "    <tr style=\"text-align: right;\">\n",
       "      <th></th>\n",
       "      <th>customer_id</th>\n",
       "      <th>product_id</th>\n",
       "      <th>price</th>\n",
       "      <th>week</th>\n",
       "    </tr>\n",
       "  </thead>\n",
       "  <tbody>\n",
       "    <tr>\n",
       "      <th>0</th>\n",
       "      <td>0</td>\n",
       "      <td>5</td>\n",
       "      <td>7.03</td>\n",
       "      <td>1</td>\n",
       "    </tr>\n",
       "    <tr>\n",
       "      <th>1</th>\n",
       "      <td>0</td>\n",
       "      <td>39</td>\n",
       "      <td>4.71</td>\n",
       "      <td>1</td>\n",
       "    </tr>\n",
       "    <tr>\n",
       "      <th>2</th>\n",
       "      <td>0</td>\n",
       "      <td>53</td>\n",
       "      <td>7.61</td>\n",
       "      <td>1</td>\n",
       "    </tr>\n",
       "  </tbody>\n",
       "</table>\n",
       "</div>"
      ],
      "text/plain": [
       "   customer_id  product_id  price  week\n",
       "0            0           5   7.03     1\n",
       "1            0          39   4.71     1\n",
       "2            0          53   7.61     1"
      ]
     },
     "execution_count": 65,
     "metadata": {},
     "output_type": "execute_result"
    }
   ],
   "source": [
    "df.head(3)"
   ]
  },
  {
   "cell_type": "code",
   "execution_count": 66,
   "metadata": {},
   "outputs": [
    {
     "data": {
      "text/plain": [
       "(307838, 4)"
      ]
     },
     "execution_count": 66,
     "metadata": {},
     "output_type": "execute_result"
    }
   ],
   "source": [
    "df.shape"
   ]
  },
  {
   "cell_type": "code",
   "execution_count": 67,
   "metadata": {},
   "outputs": [
    {
     "data": {
      "text/plain": [
       "0"
      ]
     },
     "execution_count": 67,
     "metadata": {},
     "output_type": "execute_result"
    }
   ],
   "source": [
    "len(df) - len(df.drop_duplicates())"
   ]
  },
  {
   "cell_type": "code",
   "execution_count": 68,
   "metadata": {},
   "outputs": [
    {
     "data": {
      "text/plain": [
       "1999"
      ]
     },
     "execution_count": 68,
     "metadata": {},
     "output_type": "execute_result"
    }
   ],
   "source": [
    "df.customer_id.unique().max()"
   ]
  },
  {
   "cell_type": "code",
   "execution_count": 69,
   "metadata": {},
   "outputs": [
    {
     "data": {
      "text/plain": [
       "49"
      ]
     },
     "execution_count": 69,
     "metadata": {},
     "output_type": "execute_result"
    }
   ],
   "source": [
    "df.week.max()"
   ]
  },
  {
   "cell_type": "code",
   "execution_count": 70,
   "metadata": {},
   "outputs": [
    {
     "data": {
      "text/plain": [
       "0.6"
      ]
     },
     "execution_count": 70,
     "metadata": {},
     "output_type": "execute_result"
    }
   ],
   "source": [
    "# Do prices change? Sure, they do\n",
    "np.mean([df[df.product_id == i].price.std() != 0 for i in df.product_id.unique()])"
   ]
  },
  {
   "cell_type": "code",
   "execution_count": 71,
   "metadata": {},
   "outputs": [
    {
     "data": {
      "text/plain": [
       "0.0"
      ]
     },
     "execution_count": 71,
     "metadata": {},
     "output_type": "execute_result"
    }
   ],
   "source": [
    "# Nope, they don't... There are minor rounding / floating errors\n",
    "np.mean([(df[df.product_id == i].price.max() - df[df.product_id == i].price.min()) > 0 for i in df.product_id.unique()])"
   ]
  },
  {
   "cell_type": "markdown",
   "metadata": {},
   "source": [
    "# EDA"
   ]
  },
  {
   "cell_type": "code",
   "execution_count": 72,
   "metadata": {},
   "outputs": [
    {
     "data": {
      "image/png": "[encoded data removed]",
      "text/plain": [
       "<Figure size 432x288 with 1 Axes>"
      ]
     },
     "metadata": {
      "needs_background": "light"
     },
     "output_type": "display_data"
    }
   ],
   "source": [
    "# How many transactions per customer within 49 weeks?\n",
    "n_transactions_per_customer = [len(df[df.customer_id==i]) for i in df.customer_id.unique()]\n",
    "sns.histplot(n_transactions_per_customer).set(\n",
    "    title=f\"\"\"#transactions per customer with an average of {\n",
    "        round(np.mean(n_transactions_per_customer))\n",
    "        }\"\"\"\n",
    "    );plt.show()"
   ]
  },
  {
   "cell_type": "code",
   "execution_count": 73,
   "metadata": {},
   "outputs": [
    {
     "data": {
      "image/png": "[encoded data removed]",
      "text/plain": [
       "<Figure size 432x288 with 1 Axes>"
      ]
     },
     "metadata": {
      "needs_background": "light"
     },
     "output_type": "display_data"
    }
   ],
   "source": [
    "# How many transactions per product within 49 weeks?\n",
    "n_transactions_per_product = [len(df[df.product_id==i]) for i in df.product_id.unique()]\n",
    "sns.histplot(n_transactions_per_product, bins=25).set(\n",
    "    title=f\"\"\"#transactions per product with an average of {\n",
    "        round(np.mean(n_transactions_per_product))\n",
    "        }\"\"\"\n",
    "    );plt.show()\n",
    "\n",
    "# Some products were bought far more often than others"
   ]
  },
  {
   "cell_type": "code",
   "execution_count": 74,
   "metadata": {},
   "outputs": [
    {
     "data": {
      "image/png": "[encoded data removed]",
      "text/plain": [
       "<Figure size 432x288 with 1 Axes>"
      ]
     },
     "metadata": {
      "needs_background": "light"
     },
     "output_type": "display_data"
    }
   ],
   "source": [
    "# How much did each customer spend within 49 weeks?\n",
    "customer_spend = [df[df.customer_id==i].price.sum() for i in df.customer_id.unique()]\n",
    "sns.histplot(customer_spend).set(\n",
    "    title=f\"\"\"Customer spendings with an average of {\n",
    "        round(np.mean(customer_spend))\n",
    "        }\"\"\"\n",
    "    );plt.show()\n",
    "# Similar picture like n_transactions"
   ]
  },
  {
   "cell_type": "code",
   "execution_count": 75,
   "metadata": {},
   "outputs": [
    {
     "data": {
      "image/png": "[encoded data removed]",
      "text/plain": [
       "<Figure size 432x288 with 1 Axes>"
      ]
     },
     "metadata": {
      "needs_background": "light"
     },
     "output_type": "display_data"
    }
   ],
   "source": [
    "# How much return per product within 49 weeks?\n",
    "returns_per_product = [df[df.product_id==i].price.sum() for i in df.product_id.unique()]\n",
    "sns.histplot(returns_per_product, bins=20).set(\n",
    "    title=f\"\"\"Returns per product with an average of {\n",
    "        round(np.mean(returns_per_product))\n",
    "        }\"\"\"\n",
    "    );plt.show()\n",
    "\n",
    "# Similar picture like transactions per product"
   ]
  },
  {
   "cell_type": "code",
   "execution_count": 76,
   "metadata": {},
   "outputs": [
    {
     "data": {
      "image/png": "[encoded data removed]",
      "text/plain": [
       "<Figure size 432x288 with 1 Axes>"
      ]
     },
     "metadata": {
      "needs_background": "light"
     },
     "output_type": "display_data"
    }
   ],
   "source": [
    "# In how many weeks was a customer active?\n",
    "len(df[df.customer_id==1].groupby(by=\"week\"))\n",
    "\n",
    "n_weeks_with_transactions = [len(df[df.customer_id==i].groupby(by=\"week\")) for i in df.customer_id.unique()]\n",
    "sns.histplot(n_weeks_with_transactions).set(\n",
    "    title=f\"\"\"#weeks with transactions with an average of {\n",
    "        round(np.mean(n_weeks_with_transactions))\n",
    "        }\"\"\"\n",
    "    );plt.show()\n",
    "\n",
    "# Some customers bought products every week (could be me), others only bought sth in 40 of 49 weeks."
   ]
  },
  {
   "cell_type": "markdown",
   "metadata": {},
   "source": [
    "# Possible Features"
   ]
  },
  {
   "cell_type": "code",
   "execution_count": 77,
   "metadata": {},
   "outputs": [],
   "source": [
    "# TODO: Make prefix/suffix usage same for ALL features/columns e.g. {feature name}{time}{aggregation}... currently it's mixed up\n",
    "\n",
    "# Customer Features (joins by id & id+week)\n",
    "customer_static_features = {\n",
    "    \"customer_id\" : [],                             #(/)\n",
    "    \"avg_n_transactions_weekly_customer\": [],       #(/)\n",
    "    \"avg_spending_weekly\": [],                      #(/)\n",
    "    # \"customer_segment\": [],\n",
    "}\n",
    "\n",
    "customer_dynamic_features = {\n",
    "    \"customer_id\": [],\n",
    "    \"week\": [],\n",
    "    \"n_transactions_last_week_customer\" : [],\n",
    "    \"sum_spending_last_week\": []\n",
    "}\n",
    "\n",
    "# Product Features (joins by id & id+week)\n",
    "product_static_features = {\n",
    "    \"product_id\" : [],\n",
    "    \"avg_n_transactions_weekly_product\": [],\n",
    "    \"avg_returns_weekly\": [],\n",
    "    # \"product_segment\" : [],\n",
    "    \"avg_price_weekly\":[]\n",
    "}\n",
    "\n",
    "product_dynamic_features = {\n",
    "    \"product_id\" : [],\n",
    "    \"week\" : [],\n",
    "    \"n_transactions_last_week_product\" : [],\n",
    "    \"sum_returns_last_week\": [],\n",
    "    \"current_price\": [], # data will be incomplete, QUICKFIX: use last price or mean\n",
    "    \"price_delta_to_last_week\": [] \n",
    "}\n",
    "\n",
    "# Customer & Product Cluster"
   ]
  },
  {
   "cell_type": "code",
   "execution_count": 78,
   "metadata": {},
   "outputs": [
    {
     "data": {
      "text/plain": [
       "48"
      ]
     },
     "execution_count": 78,
     "metadata": {},
     "output_type": "execute_result"
    }
   ],
   "source": [
    "len(df[df.customer_id==1].groupby(by=\"week\"))"
   ]
  },
  {
   "cell_type": "code",
   "execution_count": 79,
   "metadata": {},
   "outputs": [
    {
     "data": {
      "text/plain": [
       "2.489795918367347"
      ]
     },
     "execution_count": 79,
     "metadata": {},
     "output_type": "execute_result"
    }
   ],
   "source": [
    "# How many transactions does the customer 0 have during active weeks (weeks he made transactions)\n",
    "df[df.customer_id==0].groupby(by=\"week\").size().mean()"
   ]
  },
  {
   "cell_type": "markdown",
   "metadata": {},
   "source": [
    "# Data Skeleton\n",
    "To take transactions that did not happen into account and to create a label, we create a skeleton."
   ]
  },
  {
   "cell_type": "code",
   "execution_count": 80,
   "metadata": {},
   "outputs": [],
   "source": [
    "# skeleton dataframe\n",
    "skeleton_dict = {\n",
    "    \"customer_id\": [],\n",
    "    \"product_id\": [],\n",
    "    \"week\":[]\n",
    "}\n",
    "\n",
    "skeleton = pd.DataFrame(skeleton_dict)"
   ]
  },
  {
   "cell_type": "code",
   "execution_count": 81,
   "metadata": {},
   "outputs": [],
   "source": [
    "# customer product pairs\n",
    "n_customers, n_products = 2000, 100\n",
    "cp_gen = ((c, p)  for c in range(n_customers) for p in range(n_products))\n",
    "skeleton_cp = pd.DataFrame(cp_gen, columns=[\"customer_id\", \"product_id\"])"
   ]
  },
  {
   "cell_type": "code",
   "execution_count": 82,
   "metadata": {},
   "outputs": [],
   "source": [
    "# Filling skeleton\n",
    "n_weeks = 50\n",
    "\n",
    "for w in range(1,n_weeks+1):\n",
    "    tmp = skeleton_cp.copy()\n",
    "    tmp[\"week\"] = [w] * len(skeleton_cp)\n",
    "    skeleton = pd.concat([skeleton, tmp], ignore_index=True)"
   ]
  },
  {
   "cell_type": "code",
   "execution_count": 83,
   "metadata": {},
   "outputs": [
    {
     "data": {
      "text/plain": [
       "True"
      ]
     },
     "execution_count": 83,
     "metadata": {},
     "output_type": "execute_result"
    }
   ],
   "source": [
    "len(skeleton) == n_customers * n_products * n_weeks"
   ]
  },
  {
   "cell_type": "code",
   "execution_count": 84,
   "metadata": {},
   "outputs": [
    {
     "data": {
      "text/plain": [
       "{'customer_id': dtype('int64'),\n",
       " 'product_id': dtype('int64'),\n",
       " 'week': dtype('int64')}"
      ]
     },
     "execution_count": 84,
     "metadata": {},
     "output_type": "execute_result"
    }
   ],
   "source": [
    "df[[\"customer_id\",\"product_id\",\"week\"]].dtypes.to_dict()"
   ]
  },
  {
   "cell_type": "code",
   "execution_count": 85,
   "metadata": {},
   "outputs": [
    {
     "data": {
      "text/html": [
       "<div>\n",
       "<style scoped>\n",
       "    .dataframe tbody tr th:only-of-type {\n",
       "        vertical-align: middle;\n",
       "    }\n",
       "\n",
       "    .dataframe tbody tr th {\n",
       "        vertical-align: top;\n",
       "    }\n",
       "\n",
       "    .dataframe thead th {\n",
       "        text-align: right;\n",
       "    }\n",
       "</style>\n",
       "<table border=\"1\" class=\"dataframe\">\n",
       "  <thead>\n",
       "    <tr style=\"text-align: right;\">\n",
       "      <th></th>\n",
       "      <th>customer_id</th>\n",
       "      <th>product_id</th>\n",
       "      <th>week</th>\n",
       "    </tr>\n",
       "  </thead>\n",
       "  <tbody>\n",
       "    <tr>\n",
       "      <th>0</th>\n",
       "      <td>0</td>\n",
       "      <td>0</td>\n",
       "      <td>1</td>\n",
       "    </tr>\n",
       "    <tr>\n",
       "      <th>1</th>\n",
       "      <td>0</td>\n",
       "      <td>1</td>\n",
       "      <td>1</td>\n",
       "    </tr>\n",
       "    <tr>\n",
       "      <th>2</th>\n",
       "      <td>0</td>\n",
       "      <td>2</td>\n",
       "      <td>1</td>\n",
       "    </tr>\n",
       "    <tr>\n",
       "      <th>3</th>\n",
       "      <td>0</td>\n",
       "      <td>3</td>\n",
       "      <td>1</td>\n",
       "    </tr>\n",
       "    <tr>\n",
       "      <th>4</th>\n",
       "      <td>0</td>\n",
       "      <td>4</td>\n",
       "      <td>1</td>\n",
       "    </tr>\n",
       "  </tbody>\n",
       "</table>\n",
       "</div>"
      ],
      "text/plain": [
       "   customer_id  product_id  week\n",
       "0            0           0     1\n",
       "1            0           1     1\n",
       "2            0           2     1\n",
       "3            0           3     1\n",
       "4            0           4     1"
      ]
     },
     "execution_count": 85,
     "metadata": {},
     "output_type": "execute_result"
    }
   ],
   "source": [
    "# Type alignment\n",
    "skeleton = skeleton.astype(df[[\"customer_id\",\"product_id\",\"week\"]].dtypes.to_dict())\n",
    "skeleton.head()"
   ]
  },
  {
   "cell_type": "code",
   "execution_count": 86,
   "metadata": {},
   "outputs": [
    {
     "data": {
      "text/html": [
       "<div>\n",
       "<style scoped>\n",
       "    .dataframe tbody tr th:only-of-type {\n",
       "        vertical-align: middle;\n",
       "    }\n",
       "\n",
       "    .dataframe tbody tr th {\n",
       "        vertical-align: top;\n",
       "    }\n",
       "\n",
       "    .dataframe thead th {\n",
       "        text-align: right;\n",
       "    }\n",
       "</style>\n",
       "<table border=\"1\" class=\"dataframe\">\n",
       "  <thead>\n",
       "    <tr style=\"text-align: right;\">\n",
       "      <th></th>\n",
       "      <th>customer_id</th>\n",
       "      <th>product_id</th>\n",
       "      <th>price</th>\n",
       "      <th>week</th>\n",
       "      <th>label</th>\n",
       "    </tr>\n",
       "  </thead>\n",
       "  <tbody>\n",
       "    <tr>\n",
       "      <th>0</th>\n",
       "      <td>0</td>\n",
       "      <td>5</td>\n",
       "      <td>7.03</td>\n",
       "      <td>1</td>\n",
       "      <td>1</td>\n",
       "    </tr>\n",
       "    <tr>\n",
       "      <th>1</th>\n",
       "      <td>0</td>\n",
       "      <td>39</td>\n",
       "      <td>4.71</td>\n",
       "      <td>1</td>\n",
       "      <td>1</td>\n",
       "    </tr>\n",
       "    <tr>\n",
       "      <th>2</th>\n",
       "      <td>0</td>\n",
       "      <td>53</td>\n",
       "      <td>7.61</td>\n",
       "      <td>1</td>\n",
       "      <td>1</td>\n",
       "    </tr>\n",
       "  </tbody>\n",
       "</table>\n",
       "</div>"
      ],
      "text/plain": [
       "   customer_id  product_id  price  week  label\n",
       "0            0           5   7.03     1      1\n",
       "1            0          39   4.71     1      1\n",
       "2            0          53   7.61     1      1"
      ]
     },
     "execution_count": 86,
     "metadata": {},
     "output_type": "execute_result"
    }
   ],
   "source": [
    "# Add label\n",
    "df[\"label\"] = [1] * len(df)\n",
    "df.head(3)"
   ]
  },
  {
   "cell_type": "code",
   "execution_count": 87,
   "metadata": {},
   "outputs": [
    {
     "name": "stdout",
     "output_type": "stream",
     "text": [
      "10000000\n"
     ]
    },
    {
     "data": {
      "text/html": [
       "<div>\n",
       "<style scoped>\n",
       "    .dataframe tbody tr th:only-of-type {\n",
       "        vertical-align: middle;\n",
       "    }\n",
       "\n",
       "    .dataframe tbody tr th {\n",
       "        vertical-align: top;\n",
       "    }\n",
       "\n",
       "    .dataframe thead th {\n",
       "        text-align: right;\n",
       "    }\n",
       "</style>\n",
       "<table border=\"1\" class=\"dataframe\">\n",
       "  <thead>\n",
       "    <tr style=\"text-align: right;\">\n",
       "      <th></th>\n",
       "      <th>customer_id</th>\n",
       "      <th>product_id</th>\n",
       "      <th>week</th>\n",
       "      <th>price</th>\n",
       "      <th>label</th>\n",
       "    </tr>\n",
       "  </thead>\n",
       "  <tbody>\n",
       "    <tr>\n",
       "      <th>0</th>\n",
       "      <td>0</td>\n",
       "      <td>0</td>\n",
       "      <td>1</td>\n",
       "      <td>NaN</td>\n",
       "      <td>NaN</td>\n",
       "    </tr>\n",
       "    <tr>\n",
       "      <th>1</th>\n",
       "      <td>0</td>\n",
       "      <td>1</td>\n",
       "      <td>1</td>\n",
       "      <td>NaN</td>\n",
       "      <td>NaN</td>\n",
       "    </tr>\n",
       "    <tr>\n",
       "      <th>2</th>\n",
       "      <td>0</td>\n",
       "      <td>2</td>\n",
       "      <td>1</td>\n",
       "      <td>NaN</td>\n",
       "      <td>NaN</td>\n",
       "    </tr>\n",
       "    <tr>\n",
       "      <th>3</th>\n",
       "      <td>0</td>\n",
       "      <td>3</td>\n",
       "      <td>1</td>\n",
       "      <td>NaN</td>\n",
       "      <td>NaN</td>\n",
       "    </tr>\n",
       "    <tr>\n",
       "      <th>4</th>\n",
       "      <td>0</td>\n",
       "      <td>4</td>\n",
       "      <td>1</td>\n",
       "      <td>NaN</td>\n",
       "      <td>NaN</td>\n",
       "    </tr>\n",
       "    <tr>\n",
       "      <th>5</th>\n",
       "      <td>0</td>\n",
       "      <td>5</td>\n",
       "      <td>1</td>\n",
       "      <td>7.03</td>\n",
       "      <td>1.0</td>\n",
       "    </tr>\n",
       "    <tr>\n",
       "      <th>6</th>\n",
       "      <td>0</td>\n",
       "      <td>6</td>\n",
       "      <td>1</td>\n",
       "      <td>NaN</td>\n",
       "      <td>NaN</td>\n",
       "    </tr>\n",
       "    <tr>\n",
       "      <th>7</th>\n",
       "      <td>0</td>\n",
       "      <td>7</td>\n",
       "      <td>1</td>\n",
       "      <td>NaN</td>\n",
       "      <td>NaN</td>\n",
       "    </tr>\n",
       "    <tr>\n",
       "      <th>8</th>\n",
       "      <td>0</td>\n",
       "      <td>8</td>\n",
       "      <td>1</td>\n",
       "      <td>NaN</td>\n",
       "      <td>NaN</td>\n",
       "    </tr>\n",
       "    <tr>\n",
       "      <th>9</th>\n",
       "      <td>0</td>\n",
       "      <td>9</td>\n",
       "      <td>1</td>\n",
       "      <td>NaN</td>\n",
       "      <td>NaN</td>\n",
       "    </tr>\n",
       "  </tbody>\n",
       "</table>\n",
       "</div>"
      ],
      "text/plain": [
       "   customer_id  product_id  week  price  label\n",
       "0            0           0     1    NaN    NaN\n",
       "1            0           1     1    NaN    NaN\n",
       "2            0           2     1    NaN    NaN\n",
       "3            0           3     1    NaN    NaN\n",
       "4            0           4     1    NaN    NaN\n",
       "5            0           5     1   7.03    1.0\n",
       "6            0           6     1    NaN    NaN\n",
       "7            0           7     1    NaN    NaN\n",
       "8            0           8     1    NaN    NaN\n",
       "9            0           9     1    NaN    NaN"
      ]
     },
     "execution_count": 87,
     "metadata": {},
     "output_type": "execute_result"
    }
   ],
   "source": [
    "# Merge Skeleton & completed transactions (df)\n",
    "merged = skeleton.merge(\n",
    "    right=df, \n",
    "    how=\"left\", \n",
    "    on=[\"customer_id\", \"product_id\", \"week\"],\n",
    "    validate=\"1:m\"\n",
    "    )\n",
    "print(len(merged))\n",
    "\n",
    "merged.head(10)"
   ]
  },
  {
   "cell_type": "markdown",
   "metadata": {},
   "source": [
    "# Building customer features"
   ]
  },
  {
   "cell_type": "code",
   "execution_count": 88,
   "metadata": {},
   "outputs": [
    {
     "data": {
      "text/html": [
       "<div>\n",
       "<style scoped>\n",
       "    .dataframe tbody tr th:only-of-type {\n",
       "        vertical-align: middle;\n",
       "    }\n",
       "\n",
       "    .dataframe tbody tr th {\n",
       "        vertical-align: top;\n",
       "    }\n",
       "\n",
       "    .dataframe thead th {\n",
       "        text-align: right;\n",
       "    }\n",
       "</style>\n",
       "<table border=\"1\" class=\"dataframe\">\n",
       "  <thead>\n",
       "    <tr style=\"text-align: right;\">\n",
       "      <th></th>\n",
       "      <th>customer_id</th>\n",
       "      <th>week</th>\n",
       "      <th>weekly_spending</th>\n",
       "      <th>n_transactions_customer</th>\n",
       "    </tr>\n",
       "  </thead>\n",
       "  <tbody>\n",
       "    <tr>\n",
       "      <th>0</th>\n",
       "      <td>0</td>\n",
       "      <td>1</td>\n",
       "      <td>25.39</td>\n",
       "      <td>4.0</td>\n",
       "    </tr>\n",
       "    <tr>\n",
       "      <th>1</th>\n",
       "      <td>0</td>\n",
       "      <td>2</td>\n",
       "      <td>26.34</td>\n",
       "      <td>4.0</td>\n",
       "    </tr>\n",
       "    <tr>\n",
       "      <th>2</th>\n",
       "      <td>0</td>\n",
       "      <td>3</td>\n",
       "      <td>14.01</td>\n",
       "      <td>2.0</td>\n",
       "    </tr>\n",
       "  </tbody>\n",
       "</table>\n",
       "</div>"
      ],
      "text/plain": [
       "   customer_id  week  weekly_spending  n_transactions_customer\n",
       "0            0     1            25.39                      4.0\n",
       "1            0     2            26.34                      4.0\n",
       "2            0     3            14.01                      2.0"
      ]
     },
     "execution_count": 88,
     "metadata": {},
     "output_type": "execute_result"
    }
   ],
   "source": [
    "# sum of transactions and spendings per customer per week\n",
    "weekly_transactions_customer = merged.groupby(by=[\"customer_id\",\"week\"], as_index=False)[[\"price\",\"label\"]].sum()\n",
    "weekly_transactions_customer.rename(columns={\"label\":\"n_transactions_customer\", \"price\":\"weekly_spending\"}, inplace=True)\n",
    "weekly_transactions_customer.head(3)"
   ]
  },
  {
   "cell_type": "code",
   "execution_count": 89,
   "metadata": {},
   "outputs": [
    {
     "data": {
      "text/html": [
       "<div>\n",
       "<style scoped>\n",
       "    .dataframe tbody tr th:only-of-type {\n",
       "        vertical-align: middle;\n",
       "    }\n",
       "\n",
       "    .dataframe tbody tr th {\n",
       "        vertical-align: top;\n",
       "    }\n",
       "\n",
       "    .dataframe thead th {\n",
       "        text-align: right;\n",
       "    }\n",
       "</style>\n",
       "<table border=\"1\" class=\"dataframe\">\n",
       "  <thead>\n",
       "    <tr style=\"text-align: right;\">\n",
       "      <th></th>\n",
       "      <th>customer_id</th>\n",
       "      <th>price</th>\n",
       "    </tr>\n",
       "  </thead>\n",
       "  <tbody>\n",
       "    <tr>\n",
       "      <th>0</th>\n",
       "      <td>0</td>\n",
       "      <td>7.86</td>\n",
       "    </tr>\n",
       "    <tr>\n",
       "      <th>1</th>\n",
       "      <td>1</td>\n",
       "      <td>8.86</td>\n",
       "    </tr>\n",
       "    <tr>\n",
       "      <th>2</th>\n",
       "      <td>2</td>\n",
       "      <td>8.47</td>\n",
       "    </tr>\n",
       "    <tr>\n",
       "      <th>3</th>\n",
       "      <td>3</td>\n",
       "      <td>7.75</td>\n",
       "    </tr>\n",
       "    <tr>\n",
       "      <th>4</th>\n",
       "      <td>4</td>\n",
       "      <td>8.77</td>\n",
       "    </tr>\n",
       "    <tr>\n",
       "      <th>...</th>\n",
       "      <td>...</td>\n",
       "      <td>...</td>\n",
       "    </tr>\n",
       "    <tr>\n",
       "      <th>1995</th>\n",
       "      <td>1995</td>\n",
       "      <td>7.60</td>\n",
       "    </tr>\n",
       "    <tr>\n",
       "      <th>1996</th>\n",
       "      <td>1996</td>\n",
       "      <td>7.95</td>\n",
       "    </tr>\n",
       "    <tr>\n",
       "      <th>1997</th>\n",
       "      <td>1997</td>\n",
       "      <td>8.86</td>\n",
       "    </tr>\n",
       "    <tr>\n",
       "      <th>1998</th>\n",
       "      <td>1998</td>\n",
       "      <td>8.47</td>\n",
       "    </tr>\n",
       "    <tr>\n",
       "      <th>1999</th>\n",
       "      <td>1999</td>\n",
       "      <td>8.07</td>\n",
       "    </tr>\n",
       "  </tbody>\n",
       "</table>\n",
       "<p>2000 rows × 2 columns</p>\n",
       "</div>"
      ],
      "text/plain": [
       "      customer_id  price\n",
       "0               0   7.86\n",
       "1               1   8.86\n",
       "2               2   8.47\n",
       "3               3   7.75\n",
       "4               4   8.77\n",
       "...           ...    ...\n",
       "1995         1995   7.60\n",
       "1996         1996   7.95\n",
       "1997         1997   8.86\n",
       "1998         1998   8.47\n",
       "1999         1999   8.07\n",
       "\n",
       "[2000 rows x 2 columns]"
      ]
     },
     "execution_count": 89,
     "metadata": {},
     "output_type": "execute_result"
    }
   ],
   "source": [
    "merged.groupby(by=\"customer_id\", as_index=False)[\"price\"].max()"
   ]
  },
  {
   "cell_type": "code",
   "execution_count": 90,
   "metadata": {},
   "outputs": [
    {
     "data": {
      "text/plain": [
       "(100000, 4)"
      ]
     },
     "execution_count": 90,
     "metadata": {},
     "output_type": "execute_result"
    }
   ],
   "source": [
    "weekly_transactions_customer.shape"
   ]
  },
  {
   "cell_type": "code",
   "execution_count": 91,
   "metadata": {},
   "outputs": [
    {
     "data": {
      "text/plain": [
       "100000"
      ]
     },
     "execution_count": 91,
     "metadata": {},
     "output_type": "execute_result"
    }
   ],
   "source": [
    "n_customers*n_weeks"
   ]
  },
  {
   "cell_type": "markdown",
   "metadata": {},
   "source": [
    "For week 50 (1-step-ahead-prediction) we don't know spendings and transactions. Thus, we can't use them for the current week directly. However we can use data from previous weeks as dynamic data."
   ]
  },
  {
   "cell_type": "code",
   "execution_count": 92,
   "metadata": {},
   "outputs": [
    {
     "data": {
      "text/html": [
       "<div>\n",
       "<style scoped>\n",
       "    .dataframe tbody tr th:only-of-type {\n",
       "        vertical-align: middle;\n",
       "    }\n",
       "\n",
       "    .dataframe tbody tr th {\n",
       "        vertical-align: top;\n",
       "    }\n",
       "\n",
       "    .dataframe thead th {\n",
       "        text-align: right;\n",
       "    }\n",
       "</style>\n",
       "<table border=\"1\" class=\"dataframe\">\n",
       "  <thead>\n",
       "    <tr style=\"text-align: right;\">\n",
       "      <th></th>\n",
       "      <th>customer_id</th>\n",
       "      <th>week</th>\n",
       "      <th>weekly_spending</th>\n",
       "      <th>n_transactions_customer</th>\n",
       "      <th>sum_spending_last_week</th>\n",
       "      <th>n_transactions_last_week_customer</th>\n",
       "    </tr>\n",
       "  </thead>\n",
       "  <tbody>\n",
       "    <tr>\n",
       "      <th>0</th>\n",
       "      <td>0</td>\n",
       "      <td>1</td>\n",
       "      <td>25.39</td>\n",
       "      <td>4.0</td>\n",
       "      <td>NaN</td>\n",
       "      <td>NaN</td>\n",
       "    </tr>\n",
       "    <tr>\n",
       "      <th>1</th>\n",
       "      <td>0</td>\n",
       "      <td>2</td>\n",
       "      <td>26.34</td>\n",
       "      <td>4.0</td>\n",
       "      <td>25.39</td>\n",
       "      <td>4.0</td>\n",
       "    </tr>\n",
       "    <tr>\n",
       "      <th>2</th>\n",
       "      <td>0</td>\n",
       "      <td>3</td>\n",
       "      <td>14.01</td>\n",
       "      <td>2.0</td>\n",
       "      <td>26.34</td>\n",
       "      <td>4.0</td>\n",
       "    </tr>\n",
       "  </tbody>\n",
       "</table>\n",
       "</div>"
      ],
      "text/plain": [
       "   customer_id  week  weekly_spending  n_transactions_customer  \\\n",
       "0            0     1            25.39                      4.0   \n",
       "1            0     2            26.34                      4.0   \n",
       "2            0     3            14.01                      2.0   \n",
       "\n",
       "   sum_spending_last_week  n_transactions_last_week_customer  \n",
       "0                     NaN                                NaN  \n",
       "1                   25.39                                4.0  \n",
       "2                   26.34                                4.0  "
      ]
     },
     "execution_count": 92,
     "metadata": {},
     "output_type": "execute_result"
    }
   ],
   "source": [
    "weekly_transactions_customer[\"sum_spending_last_week\"] = weekly_transactions_customer[\"weekly_spending\"].shift(periods=1)\n",
    "weekly_transactions_customer[\"n_transactions_last_week_customer\"] = weekly_transactions_customer[\"n_transactions_customer\"].shift(periods=1)\n",
    "weekly_transactions_customer.head(3)"
   ]
  },
  {
   "cell_type": "code",
   "execution_count": 93,
   "metadata": {},
   "outputs": [
    {
     "name": "stdout",
     "output_type": "stream",
     "text": [
      "(2000, 3)\n"
     ]
    },
    {
     "data": {
      "text/html": [
       "<div>\n",
       "<style scoped>\n",
       "    .dataframe tbody tr th:only-of-type {\n",
       "        vertical-align: middle;\n",
       "    }\n",
       "\n",
       "    .dataframe tbody tr th {\n",
       "        vertical-align: top;\n",
       "    }\n",
       "\n",
       "    .dataframe thead th {\n",
       "        text-align: right;\n",
       "    }\n",
       "</style>\n",
       "<table border=\"1\" class=\"dataframe\">\n",
       "  <thead>\n",
       "    <tr style=\"text-align: right;\">\n",
       "      <th></th>\n",
       "      <th>customer_id</th>\n",
       "      <th>avg_n_transactions_weekly_customer</th>\n",
       "      <th>avg_spending_weekly</th>\n",
       "    </tr>\n",
       "  </thead>\n",
       "  <tbody>\n",
       "    <tr>\n",
       "      <th>0</th>\n",
       "      <td>0</td>\n",
       "      <td>2.489796</td>\n",
       "      <td>15.985510</td>\n",
       "    </tr>\n",
       "    <tr>\n",
       "      <th>1</th>\n",
       "      <td>1</td>\n",
       "      <td>3.346939</td>\n",
       "      <td>20.655306</td>\n",
       "    </tr>\n",
       "    <tr>\n",
       "      <th>2</th>\n",
       "      <td>2</td>\n",
       "      <td>2.285714</td>\n",
       "      <td>14.324286</td>\n",
       "    </tr>\n",
       "  </tbody>\n",
       "</table>\n",
       "</div>"
      ],
      "text/plain": [
       "   customer_id  avg_n_transactions_weekly_customer  avg_spending_weekly\n",
       "0            0                            2.489796            15.985510\n",
       "1            1                            3.346939            20.655306\n",
       "2            2                            2.285714            14.324286"
      ]
     },
     "execution_count": 93,
     "metadata": {},
     "output_type": "execute_result"
    }
   ],
   "source": [
    "customer_static_features = {\n",
    "    \"customer_id\" : [],                             #(/)\n",
    "    \"avg_n_transactions_weekly_customer\": [],       #(/)\n",
    "    \"avg_spending_weekly\": [],                      #(/)\n",
    "    # \"customer_segment\": [],\n",
    "    # highest price paid\n",
    "}\n",
    "\n",
    "for customer in df.customer_id.unique():\n",
    "\n",
    "    customer_static_features[\"customer_id\"].append(customer)\n",
    "\n",
    "    customer_static_features[\"avg_n_transactions_weekly_customer\"].append(\n",
    "        weekly_transactions_customer[\n",
    "            (weekly_transactions_customer.customer_id == customer)&(weekly_transactions_customer.week < 50)].n_transactions_customer.mean()\n",
    "    )\n",
    "\n",
    "    customer_static_features[\"avg_spending_weekly\"].append(\n",
    "        weekly_transactions_customer[\n",
    "            (weekly_transactions_customer.customer_id == customer)&(weekly_transactions_customer.week < 50)].weekly_spending.mean()\n",
    "    )\n",
    "\n",
    "customer_static = pd.DataFrame(customer_static_features)\n",
    "\n",
    "print(customer_static.shape)\n",
    "customer_static.head(3)"
   ]
  },
  {
   "cell_type": "code",
   "execution_count": 94,
   "metadata": {},
   "outputs": [
    {
     "name": "stdout",
     "output_type": "stream",
     "text": [
      "(100000, 4)\n"
     ]
    },
    {
     "data": {
      "text/html": [
       "<div>\n",
       "<style scoped>\n",
       "    .dataframe tbody tr th:only-of-type {\n",
       "        vertical-align: middle;\n",
       "    }\n",
       "\n",
       "    .dataframe tbody tr th {\n",
       "        vertical-align: top;\n",
       "    }\n",
       "\n",
       "    .dataframe thead th {\n",
       "        text-align: right;\n",
       "    }\n",
       "</style>\n",
       "<table border=\"1\" class=\"dataframe\">\n",
       "  <thead>\n",
       "    <tr style=\"text-align: right;\">\n",
       "      <th></th>\n",
       "      <th>customer_id</th>\n",
       "      <th>week</th>\n",
       "      <th>sum_spending_last_week</th>\n",
       "      <th>n_transactions_last_week_customer</th>\n",
       "    </tr>\n",
       "  </thead>\n",
       "  <tbody>\n",
       "    <tr>\n",
       "      <th>99997</th>\n",
       "      <td>1999</td>\n",
       "      <td>48</td>\n",
       "      <td>23.68</td>\n",
       "      <td>4.0</td>\n",
       "    </tr>\n",
       "    <tr>\n",
       "      <th>99998</th>\n",
       "      <td>1999</td>\n",
       "      <td>49</td>\n",
       "      <td>16.85</td>\n",
       "      <td>3.0</td>\n",
       "    </tr>\n",
       "    <tr>\n",
       "      <th>99999</th>\n",
       "      <td>1999</td>\n",
       "      <td>50</td>\n",
       "      <td>30.54</td>\n",
       "      <td>5.0</td>\n",
       "    </tr>\n",
       "  </tbody>\n",
       "</table>\n",
       "</div>"
      ],
      "text/plain": [
       "       customer_id  week  sum_spending_last_week  \\\n",
       "99997         1999    48                   23.68   \n",
       "99998         1999    49                   16.85   \n",
       "99999         1999    50                   30.54   \n",
       "\n",
       "       n_transactions_last_week_customer  \n",
       "99997                                4.0  \n",
       "99998                                3.0  \n",
       "99999                                5.0  "
      ]
     },
     "execution_count": 94,
     "metadata": {},
     "output_type": "execute_result"
    }
   ],
   "source": [
    "customer_dynamic = weekly_transactions_customer[[\"customer_id\",\"week\", \"sum_spending_last_week\", \"n_transactions_last_week_customer\"]]\n",
    "\n",
    "print(customer_dynamic.shape)\n",
    "customer_dynamic.tail(3)"
   ]
  },
  {
   "cell_type": "code",
   "execution_count": 95,
   "metadata": {},
   "outputs": [
    {
     "data": {
      "image/png": "[encoded data removed]",
      "text/plain": [
       "<Figure size 432x288 with 1 Axes>"
      ]
     },
     "metadata": {
      "needs_background": "light"
     },
     "output_type": "display_data"
    }
   ],
   "source": [
    "# customer segments (low-, mid- highspender)\n",
    "sns.histplot(customer_static_features[\"avg_spending_weekly\"]).set(title=\"avg spending per week\");plt.show()"
   ]
  },
  {
   "cell_type": "code",
   "execution_count": 96,
   "metadata": {},
   "outputs": [],
   "source": [
    "# NOTE: The customer segment will highly correlate with spending.\n",
    "# sigma = np.std(customer_static_features[\"avg_spending_weekly\"])\n",
    "# mean = np.mean(customer_static_features[\"avg_spending_weekly\"])\n",
    "\n",
    "# def segment(spending):\n"
   ]
  },
  {
   "cell_type": "markdown",
   "metadata": {},
   "source": [
    "# Building product features"
   ]
  },
  {
   "cell_type": "code",
   "execution_count": 97,
   "metadata": {},
   "outputs": [
    {
     "data": {
      "text/html": [
       "<div>\n",
       "<style scoped>\n",
       "    .dataframe tbody tr th:only-of-type {\n",
       "        vertical-align: middle;\n",
       "    }\n",
       "\n",
       "    .dataframe tbody tr th {\n",
       "        vertical-align: top;\n",
       "    }\n",
       "\n",
       "    .dataframe thead th {\n",
       "        text-align: right;\n",
       "    }\n",
       "</style>\n",
       "<table border=\"1\" class=\"dataframe\">\n",
       "  <thead>\n",
       "    <tr style=\"text-align: right;\">\n",
       "      <th></th>\n",
       "      <th>product_id</th>\n",
       "      <th>week</th>\n",
       "      <th>weekly_returns</th>\n",
       "      <th>n_transactions_product</th>\n",
       "      <th>current_price</th>\n",
       "    </tr>\n",
       "  </thead>\n",
       "  <tbody>\n",
       "    <tr>\n",
       "      <th>0</th>\n",
       "      <td>0</td>\n",
       "      <td>1</td>\n",
       "      <td>207.36</td>\n",
       "      <td>36.0</td>\n",
       "      <td>5.76</td>\n",
       "    </tr>\n",
       "    <tr>\n",
       "      <th>1</th>\n",
       "      <td>0</td>\n",
       "      <td>2</td>\n",
       "      <td>224.64</td>\n",
       "      <td>39.0</td>\n",
       "      <td>5.76</td>\n",
       "    </tr>\n",
       "    <tr>\n",
       "      <th>2</th>\n",
       "      <td>0</td>\n",
       "      <td>3</td>\n",
       "      <td>207.36</td>\n",
       "      <td>36.0</td>\n",
       "      <td>5.76</td>\n",
       "    </tr>\n",
       "  </tbody>\n",
       "</table>\n",
       "</div>"
      ],
      "text/plain": [
       "   product_id  week  weekly_returns  n_transactions_product  current_price\n",
       "0           0     1          207.36                    36.0           5.76\n",
       "1           0     2          224.64                    39.0           5.76\n",
       "2           0     3          207.36                    36.0           5.76"
      ]
     },
     "execution_count": 97,
     "metadata": {},
     "output_type": "execute_result"
    }
   ],
   "source": [
    "# sum of transactions and returns per product per week\n",
    "weekly_transactions_product = merged.groupby(by=[\"product_id\",\"week\"], as_index=False)[[\"price\",\"label\"]].sum()\n",
    "weekly_transactions_product.rename(columns={\"label\":\"n_transactions_product\", \"price\":\"weekly_returns\"}, inplace=True)\n",
    "weekly_transactions_product[\"current_price\"] = weekly_transactions_product.weekly_returns/weekly_transactions_product.n_transactions_product\n",
    "weekly_transactions_product.head(3)"
   ]
  },
  {
   "cell_type": "code",
   "execution_count": 98,
   "metadata": {},
   "outputs": [
    {
     "data": {
      "text/plain": [
       "(5000, 5)"
      ]
     },
     "execution_count": 98,
     "metadata": {},
     "output_type": "execute_result"
    }
   ],
   "source": [
    "weekly_transactions_product.shape"
   ]
  },
  {
   "cell_type": "code",
   "execution_count": 99,
   "metadata": {},
   "outputs": [
    {
     "name": "stdout",
     "output_type": "stream",
     "text": [
      "(100, 4)\n"
     ]
    },
    {
     "data": {
      "text/html": [
       "<div>\n",
       "<style scoped>\n",
       "    .dataframe tbody tr th:only-of-type {\n",
       "        vertical-align: middle;\n",
       "    }\n",
       "\n",
       "    .dataframe tbody tr th {\n",
       "        vertical-align: top;\n",
       "    }\n",
       "\n",
       "    .dataframe thead th {\n",
       "        text-align: right;\n",
       "    }\n",
       "</style>\n",
       "<table border=\"1\" class=\"dataframe\">\n",
       "  <thead>\n",
       "    <tr style=\"text-align: right;\">\n",
       "      <th></th>\n",
       "      <th>product_id</th>\n",
       "      <th>avg_n_transactions_weekly_product</th>\n",
       "      <th>avg_returns_weekly</th>\n",
       "      <th>avg_price_weekly</th>\n",
       "    </tr>\n",
       "  </thead>\n",
       "  <tbody>\n",
       "    <tr>\n",
       "      <th>77</th>\n",
       "      <td>0</td>\n",
       "      <td>40.285714</td>\n",
       "      <td>232.045714</td>\n",
       "      <td>5.76</td>\n",
       "    </tr>\n",
       "    <tr>\n",
       "      <th>74</th>\n",
       "      <td>1</td>\n",
       "      <td>44.795918</td>\n",
       "      <td>283.558163</td>\n",
       "      <td>6.33</td>\n",
       "    </tr>\n",
       "    <tr>\n",
       "      <th>16</th>\n",
       "      <td>2</td>\n",
       "      <td>32.306122</td>\n",
       "      <td>252.310816</td>\n",
       "      <td>7.81</td>\n",
       "    </tr>\n",
       "  </tbody>\n",
       "</table>\n",
       "</div>"
      ],
      "text/plain": [
       "    product_id  avg_n_transactions_weekly_product  avg_returns_weekly  \\\n",
       "77           0                          40.285714          232.045714   \n",
       "74           1                          44.795918          283.558163   \n",
       "16           2                          32.306122          252.310816   \n",
       "\n",
       "    avg_price_weekly  \n",
       "77              5.76  \n",
       "74              6.33  \n",
       "16              7.81  "
      ]
     },
     "execution_count": 99,
     "metadata": {},
     "output_type": "execute_result"
    }
   ],
   "source": [
    "product_static_features = {\n",
    "    \"product_id\" : [],\n",
    "    \"avg_n_transactions_weekly_product\": [],\n",
    "    \"avg_returns_weekly\": [],\n",
    "    \"avg_price_weekly\":[]\n",
    "}\n",
    "\n",
    "for product in df.product_id.unique():\n",
    "\n",
    "    product_static_features[\"product_id\"].append(product)\n",
    "\n",
    "    product_static_features[\"avg_n_transactions_weekly_product\"].append(\n",
    "        weekly_transactions_product[\n",
    "            (weekly_transactions_product.product_id == product)& (weekly_transactions_product.week < 50)].n_transactions_product.mean()\n",
    "    )\n",
    "\n",
    "    product_static_features[\"avg_returns_weekly\"].append(\n",
    "        weekly_transactions_product[\n",
    "            (weekly_transactions_product.product_id == product) & (weekly_transactions_product.week < 50)].weekly_returns.mean()\n",
    "    )\n",
    "    product_static_features[\"avg_price_weekly\"].append(\n",
    "        weekly_transactions_product[\n",
    "            (weekly_transactions_product.product_id == product) & (weekly_transactions_product.week < 50)].current_price.mean()\n",
    "\n",
    "    )\n",
    "\n",
    "product_static = pd.DataFrame(product_static_features)\n",
    "product_static.sort_values(by=\"product_id\",inplace=True)\n",
    "\n",
    "print(product_static.shape)\n",
    "product_static.head(3)"
   ]
  },
  {
   "cell_type": "code",
   "execution_count": 100,
   "metadata": {},
   "outputs": [
    {
     "data": {
      "text/html": [
       "<div>\n",
       "<style scoped>\n",
       "    .dataframe tbody tr th:only-of-type {\n",
       "        vertical-align: middle;\n",
       "    }\n",
       "\n",
       "    .dataframe tbody tr th {\n",
       "        vertical-align: top;\n",
       "    }\n",
       "\n",
       "    .dataframe thead th {\n",
       "        text-align: right;\n",
       "    }\n",
       "</style>\n",
       "<table border=\"1\" class=\"dataframe\">\n",
       "  <thead>\n",
       "    <tr style=\"text-align: right;\">\n",
       "      <th></th>\n",
       "      <th>product_id</th>\n",
       "      <th>week</th>\n",
       "      <th>weekly_returns</th>\n",
       "      <th>n_transactions_product</th>\n",
       "      <th>current_price</th>\n",
       "      <th>sum_returns_last_week</th>\n",
       "      <th>n_transactions_last_week_product</th>\n",
       "      <th>last_week_price</th>\n",
       "    </tr>\n",
       "  </thead>\n",
       "  <tbody>\n",
       "    <tr>\n",
       "      <th>0</th>\n",
       "      <td>0</td>\n",
       "      <td>1</td>\n",
       "      <td>207.36</td>\n",
       "      <td>36.0</td>\n",
       "      <td>5.76</td>\n",
       "      <td>NaN</td>\n",
       "      <td>NaN</td>\n",
       "      <td>5.76</td>\n",
       "    </tr>\n",
       "    <tr>\n",
       "      <th>1</th>\n",
       "      <td>0</td>\n",
       "      <td>2</td>\n",
       "      <td>224.64</td>\n",
       "      <td>39.0</td>\n",
       "      <td>5.76</td>\n",
       "      <td>207.36</td>\n",
       "      <td>36.0</td>\n",
       "      <td>5.76</td>\n",
       "    </tr>\n",
       "    <tr>\n",
       "      <th>2</th>\n",
       "      <td>0</td>\n",
       "      <td>3</td>\n",
       "      <td>207.36</td>\n",
       "      <td>36.0</td>\n",
       "      <td>5.76</td>\n",
       "      <td>224.64</td>\n",
       "      <td>39.0</td>\n",
       "      <td>5.76</td>\n",
       "    </tr>\n",
       "  </tbody>\n",
       "</table>\n",
       "</div>"
      ],
      "text/plain": [
       "   product_id  week  weekly_returns  n_transactions_product  current_price  \\\n",
       "0           0     1          207.36                    36.0           5.76   \n",
       "1           0     2          224.64                    39.0           5.76   \n",
       "2           0     3          207.36                    36.0           5.76   \n",
       "\n",
       "   sum_returns_last_week  n_transactions_last_week_product  last_week_price  \n",
       "0                    NaN                               NaN             5.76  \n",
       "1                 207.36                              36.0             5.76  \n",
       "2                 224.64                              39.0             5.76  "
      ]
     },
     "execution_count": 100,
     "metadata": {},
     "output_type": "execute_result"
    }
   ],
   "source": [
    "# Product Lag Features\n",
    "    # \"n_transactions_last_week_product\" : [],\n",
    "    # \"sum_returns_last_week\": [],\n",
    "    # \"current_price\": [], # data will be incomplete, QUICKFIX: use last price or mean\n",
    "    # \"price_delta_to_last_week\": [] \n",
    "# \n",
    "weekly_transactions_product[\"sum_returns_last_week\"] = weekly_transactions_product[\"weekly_returns\"].shift(periods=1)\n",
    "weekly_transactions_product[\"n_transactions_last_week_product\"] = weekly_transactions_product[\"n_transactions_product\"].shift(periods=1)\n",
    "weekly_transactions_product[\"last_week_price\"] = weekly_transactions_product[\"current_price\"].shift(periods=1)\n",
    "# product 75 price is missing in week 24, fixing it with bfill\n",
    "weekly_transactions_product[\"last_week_price\"].bfill(inplace=True)\n",
    "weekly_transactions_product.head(3)"
   ]
  },
  {
   "cell_type": "code",
   "execution_count": 101,
   "metadata": {},
   "outputs": [
    {
     "name": "stdout",
     "output_type": "stream",
     "text": [
      "(5000, 5)\n"
     ]
    },
    {
     "data": {
      "text/html": [
       "<div>\n",
       "<style scoped>\n",
       "    .dataframe tbody tr th:only-of-type {\n",
       "        vertical-align: middle;\n",
       "    }\n",
       "\n",
       "    .dataframe tbody tr th {\n",
       "        vertical-align: top;\n",
       "    }\n",
       "\n",
       "    .dataframe thead th {\n",
       "        text-align: right;\n",
       "    }\n",
       "</style>\n",
       "<table border=\"1\" class=\"dataframe\">\n",
       "  <thead>\n",
       "    <tr style=\"text-align: right;\">\n",
       "      <th></th>\n",
       "      <th>product_id</th>\n",
       "      <th>week</th>\n",
       "      <th>sum_returns_last_week</th>\n",
       "      <th>n_transactions_last_week_product</th>\n",
       "      <th>last_week_price</th>\n",
       "    </tr>\n",
       "  </thead>\n",
       "  <tbody>\n",
       "    <tr>\n",
       "      <th>4997</th>\n",
       "      <td>99</td>\n",
       "      <td>48</td>\n",
       "      <td>406.64</td>\n",
       "      <td>52.0</td>\n",
       "      <td>7.82</td>\n",
       "    </tr>\n",
       "    <tr>\n",
       "      <th>4998</th>\n",
       "      <td>99</td>\n",
       "      <td>49</td>\n",
       "      <td>406.64</td>\n",
       "      <td>52.0</td>\n",
       "      <td>7.82</td>\n",
       "    </tr>\n",
       "    <tr>\n",
       "      <th>4999</th>\n",
       "      <td>99</td>\n",
       "      <td>50</td>\n",
       "      <td>375.36</td>\n",
       "      <td>48.0</td>\n",
       "      <td>7.82</td>\n",
       "    </tr>\n",
       "  </tbody>\n",
       "</table>\n",
       "</div>"
      ],
      "text/plain": [
       "      product_id  week  sum_returns_last_week  \\\n",
       "4997          99    48                 406.64   \n",
       "4998          99    49                 406.64   \n",
       "4999          99    50                 375.36   \n",
       "\n",
       "      n_transactions_last_week_product  last_week_price  \n",
       "4997                              52.0             7.82  \n",
       "4998                              52.0             7.82  \n",
       "4999                              48.0             7.82  "
      ]
     },
     "execution_count": 101,
     "metadata": {},
     "output_type": "execute_result"
    }
   ],
   "source": [
    "product_dynamic = weekly_transactions_product[[\"product_id\",\"week\", \"sum_returns_last_week\", \"n_transactions_last_week_product\", \"last_week_price\"]]\n",
    "\n",
    "print(product_dynamic.shape)\n",
    "product_dynamic.tail(3)"
   ]
  },
  {
   "cell_type": "code",
   "execution_count": 102,
   "metadata": {},
   "outputs": [
    {
     "data": {
      "image/png": "[encoded data removed]",
      "text/plain": [
       "<Figure size 432x288 with 1 Axes>"
      ]
     },
     "metadata": {
      "needs_background": "light"
     },
     "output_type": "display_data"
    }
   ],
   "source": [
    "sns.histplot(product_static_features[\"avg_returns_weekly\"]).set(title=\"avg returns per week\");plt.show()"
   ]
  },
  {
   "cell_type": "markdown",
   "metadata": {},
   "source": [
    "# Add Customer & Product Features to Skeleton\n"
   ]
  },
  {
   "cell_type": "code",
   "execution_count": 103,
   "metadata": {},
   "outputs": [
    {
     "data": {
      "text/html": [
       "<div>\n",
       "<style scoped>\n",
       "    .dataframe tbody tr th:only-of-type {\n",
       "        vertical-align: middle;\n",
       "    }\n",
       "\n",
       "    .dataframe tbody tr th {\n",
       "        vertical-align: top;\n",
       "    }\n",
       "\n",
       "    .dataframe thead th {\n",
       "        text-align: right;\n",
       "    }\n",
       "</style>\n",
       "<table border=\"1\" class=\"dataframe\">\n",
       "  <thead>\n",
       "    <tr style=\"text-align: right;\">\n",
       "      <th></th>\n",
       "      <th>customer_id</th>\n",
       "      <th>product_id</th>\n",
       "      <th>week</th>\n",
       "      <th>price</th>\n",
       "      <th>label</th>\n",
       "      <th>avg_n_transactions_weekly_customer</th>\n",
       "      <th>avg_spending_weekly</th>\n",
       "    </tr>\n",
       "  </thead>\n",
       "  <tbody>\n",
       "    <tr>\n",
       "      <th>0</th>\n",
       "      <td>0</td>\n",
       "      <td>0</td>\n",
       "      <td>1</td>\n",
       "      <td>NaN</td>\n",
       "      <td>NaN</td>\n",
       "      <td>2.489796</td>\n",
       "      <td>15.98551</td>\n",
       "    </tr>\n",
       "    <tr>\n",
       "      <th>1</th>\n",
       "      <td>0</td>\n",
       "      <td>1</td>\n",
       "      <td>1</td>\n",
       "      <td>NaN</td>\n",
       "      <td>NaN</td>\n",
       "      <td>2.489796</td>\n",
       "      <td>15.98551</td>\n",
       "    </tr>\n",
       "    <tr>\n",
       "      <th>2</th>\n",
       "      <td>0</td>\n",
       "      <td>2</td>\n",
       "      <td>1</td>\n",
       "      <td>NaN</td>\n",
       "      <td>NaN</td>\n",
       "      <td>2.489796</td>\n",
       "      <td>15.98551</td>\n",
       "    </tr>\n",
       "    <tr>\n",
       "      <th>3</th>\n",
       "      <td>0</td>\n",
       "      <td>3</td>\n",
       "      <td>1</td>\n",
       "      <td>NaN</td>\n",
       "      <td>NaN</td>\n",
       "      <td>2.489796</td>\n",
       "      <td>15.98551</td>\n",
       "    </tr>\n",
       "    <tr>\n",
       "      <th>4</th>\n",
       "      <td>0</td>\n",
       "      <td>4</td>\n",
       "      <td>1</td>\n",
       "      <td>NaN</td>\n",
       "      <td>NaN</td>\n",
       "      <td>2.489796</td>\n",
       "      <td>15.98551</td>\n",
       "    </tr>\n",
       "  </tbody>\n",
       "</table>\n",
       "</div>"
      ],
      "text/plain": [
       "   customer_id  product_id  week  price  label  \\\n",
       "0            0           0     1    NaN    NaN   \n",
       "1            0           1     1    NaN    NaN   \n",
       "2            0           2     1    NaN    NaN   \n",
       "3            0           3     1    NaN    NaN   \n",
       "4            0           4     1    NaN    NaN   \n",
       "\n",
       "   avg_n_transactions_weekly_customer  avg_spending_weekly  \n",
       "0                            2.489796             15.98551  \n",
       "1                            2.489796             15.98551  \n",
       "2                            2.489796             15.98551  \n",
       "3                            2.489796             15.98551  \n",
       "4                            2.489796             15.98551  "
      ]
     },
     "execution_count": 103,
     "metadata": {},
     "output_type": "execute_result"
    }
   ],
   "source": [
    "merged_combo = merged.merge(\n",
    "    right=customer_static, \n",
    "    how=\"left\", \n",
    "    on=\"customer_id\",\n",
    "    validate=\"m:1\"\n",
    "    )\n",
    "\n",
    "merged_combo.head()"
   ]
  },
  {
   "cell_type": "code",
   "execution_count": 104,
   "metadata": {},
   "outputs": [
    {
     "name": "stdout",
     "output_type": "stream",
     "text": [
      "(10000000, 9)\n"
     ]
    },
    {
     "data": {
      "text/html": [
       "<div>\n",
       "<style scoped>\n",
       "    .dataframe tbody tr th:only-of-type {\n",
       "        vertical-align: middle;\n",
       "    }\n",
       "\n",
       "    .dataframe tbody tr th {\n",
       "        vertical-align: top;\n",
       "    }\n",
       "\n",
       "    .dataframe thead th {\n",
       "        text-align: right;\n",
       "    }\n",
       "</style>\n",
       "<table border=\"1\" class=\"dataframe\">\n",
       "  <thead>\n",
       "    <tr style=\"text-align: right;\">\n",
       "      <th></th>\n",
       "      <th>customer_id</th>\n",
       "      <th>product_id</th>\n",
       "      <th>week</th>\n",
       "      <th>price</th>\n",
       "      <th>label</th>\n",
       "      <th>avg_n_transactions_weekly_customer</th>\n",
       "      <th>avg_spending_weekly</th>\n",
       "      <th>sum_spending_last_week</th>\n",
       "      <th>n_transactions_last_week_customer</th>\n",
       "    </tr>\n",
       "  </thead>\n",
       "  <tbody>\n",
       "    <tr>\n",
       "      <th>0</th>\n",
       "      <td>0</td>\n",
       "      <td>0</td>\n",
       "      <td>1</td>\n",
       "      <td>NaN</td>\n",
       "      <td>NaN</td>\n",
       "      <td>2.489796</td>\n",
       "      <td>15.98551</td>\n",
       "      <td>NaN</td>\n",
       "      <td>NaN</td>\n",
       "    </tr>\n",
       "    <tr>\n",
       "      <th>1</th>\n",
       "      <td>0</td>\n",
       "      <td>1</td>\n",
       "      <td>1</td>\n",
       "      <td>NaN</td>\n",
       "      <td>NaN</td>\n",
       "      <td>2.489796</td>\n",
       "      <td>15.98551</td>\n",
       "      <td>NaN</td>\n",
       "      <td>NaN</td>\n",
       "    </tr>\n",
       "    <tr>\n",
       "      <th>2</th>\n",
       "      <td>0</td>\n",
       "      <td>2</td>\n",
       "      <td>1</td>\n",
       "      <td>NaN</td>\n",
       "      <td>NaN</td>\n",
       "      <td>2.489796</td>\n",
       "      <td>15.98551</td>\n",
       "      <td>NaN</td>\n",
       "      <td>NaN</td>\n",
       "    </tr>\n",
       "    <tr>\n",
       "      <th>3</th>\n",
       "      <td>0</td>\n",
       "      <td>3</td>\n",
       "      <td>1</td>\n",
       "      <td>NaN</td>\n",
       "      <td>NaN</td>\n",
       "      <td>2.489796</td>\n",
       "      <td>15.98551</td>\n",
       "      <td>NaN</td>\n",
       "      <td>NaN</td>\n",
       "    </tr>\n",
       "    <tr>\n",
       "      <th>4</th>\n",
       "      <td>0</td>\n",
       "      <td>4</td>\n",
       "      <td>1</td>\n",
       "      <td>NaN</td>\n",
       "      <td>NaN</td>\n",
       "      <td>2.489796</td>\n",
       "      <td>15.98551</td>\n",
       "      <td>NaN</td>\n",
       "      <td>NaN</td>\n",
       "    </tr>\n",
       "  </tbody>\n",
       "</table>\n",
       "</div>"
      ],
      "text/plain": [
       "   customer_id  product_id  week  price  label  \\\n",
       "0            0           0     1    NaN    NaN   \n",
       "1            0           1     1    NaN    NaN   \n",
       "2            0           2     1    NaN    NaN   \n",
       "3            0           3     1    NaN    NaN   \n",
       "4            0           4     1    NaN    NaN   \n",
       "\n",
       "   avg_n_transactions_weekly_customer  avg_spending_weekly  \\\n",
       "0                            2.489796             15.98551   \n",
       "1                            2.489796             15.98551   \n",
       "2                            2.489796             15.98551   \n",
       "3                            2.489796             15.98551   \n",
       "4                            2.489796             15.98551   \n",
       "\n",
       "   sum_spending_last_week  n_transactions_last_week_customer  \n",
       "0                     NaN                                NaN  \n",
       "1                     NaN                                NaN  \n",
       "2                     NaN                                NaN  \n",
       "3                     NaN                                NaN  \n",
       "4                     NaN                                NaN  "
      ]
     },
     "execution_count": 104,
     "metadata": {},
     "output_type": "execute_result"
    }
   ],
   "source": [
    "merged_combo = merged_combo.merge(\n",
    "    right=customer_dynamic, \n",
    "    how=\"left\", \n",
    "    on=[\"customer_id\", \"week\"],\n",
    "    validate=\"m:1\"\n",
    "    )\n",
    "print(merged_combo.shape)\n",
    "\n",
    "merged_combo.head()"
   ]
  },
  {
   "cell_type": "code",
   "execution_count": 105,
   "metadata": {},
   "outputs": [
    {
     "name": "stdout",
     "output_type": "stream",
     "text": [
      "(10000000, 12)\n"
     ]
    },
    {
     "data": {
      "text/html": [
       "<div>\n",
       "<style scoped>\n",
       "    .dataframe tbody tr th:only-of-type {\n",
       "        vertical-align: middle;\n",
       "    }\n",
       "\n",
       "    .dataframe tbody tr th {\n",
       "        vertical-align: top;\n",
       "    }\n",
       "\n",
       "    .dataframe thead th {\n",
       "        text-align: right;\n",
       "    }\n",
       "</style>\n",
       "<table border=\"1\" class=\"dataframe\">\n",
       "  <thead>\n",
       "    <tr style=\"text-align: right;\">\n",
       "      <th></th>\n",
       "      <th>customer_id</th>\n",
       "      <th>product_id</th>\n",
       "      <th>week</th>\n",
       "      <th>price</th>\n",
       "      <th>label</th>\n",
       "      <th>avg_n_transactions_weekly_customer</th>\n",
       "      <th>avg_spending_weekly</th>\n",
       "      <th>sum_spending_last_week</th>\n",
       "      <th>n_transactions_last_week_customer</th>\n",
       "      <th>avg_n_transactions_weekly_product</th>\n",
       "      <th>avg_returns_weekly</th>\n",
       "      <th>avg_price_weekly</th>\n",
       "    </tr>\n",
       "  </thead>\n",
       "  <tbody>\n",
       "    <tr>\n",
       "      <th>0</th>\n",
       "      <td>0</td>\n",
       "      <td>0</td>\n",
       "      <td>1</td>\n",
       "      <td>NaN</td>\n",
       "      <td>NaN</td>\n",
       "      <td>2.489796</td>\n",
       "      <td>15.98551</td>\n",
       "      <td>NaN</td>\n",
       "      <td>NaN</td>\n",
       "      <td>40.285714</td>\n",
       "      <td>232.045714</td>\n",
       "      <td>5.76</td>\n",
       "    </tr>\n",
       "    <tr>\n",
       "      <th>1</th>\n",
       "      <td>0</td>\n",
       "      <td>1</td>\n",
       "      <td>1</td>\n",
       "      <td>NaN</td>\n",
       "      <td>NaN</td>\n",
       "      <td>2.489796</td>\n",
       "      <td>15.98551</td>\n",
       "      <td>NaN</td>\n",
       "      <td>NaN</td>\n",
       "      <td>44.795918</td>\n",
       "      <td>283.558163</td>\n",
       "      <td>6.33</td>\n",
       "    </tr>\n",
       "    <tr>\n",
       "      <th>2</th>\n",
       "      <td>0</td>\n",
       "      <td>2</td>\n",
       "      <td>1</td>\n",
       "      <td>NaN</td>\n",
       "      <td>NaN</td>\n",
       "      <td>2.489796</td>\n",
       "      <td>15.98551</td>\n",
       "      <td>NaN</td>\n",
       "      <td>NaN</td>\n",
       "      <td>32.306122</td>\n",
       "      <td>252.310816</td>\n",
       "      <td>7.81</td>\n",
       "    </tr>\n",
       "    <tr>\n",
       "      <th>3</th>\n",
       "      <td>0</td>\n",
       "      <td>3</td>\n",
       "      <td>1</td>\n",
       "      <td>NaN</td>\n",
       "      <td>NaN</td>\n",
       "      <td>2.489796</td>\n",
       "      <td>15.98551</td>\n",
       "      <td>NaN</td>\n",
       "      <td>NaN</td>\n",
       "      <td>33.102041</td>\n",
       "      <td>235.355510</td>\n",
       "      <td>7.11</td>\n",
       "    </tr>\n",
       "    <tr>\n",
       "      <th>4</th>\n",
       "      <td>0</td>\n",
       "      <td>4</td>\n",
       "      <td>1</td>\n",
       "      <td>NaN</td>\n",
       "      <td>NaN</td>\n",
       "      <td>2.489796</td>\n",
       "      <td>15.98551</td>\n",
       "      <td>NaN</td>\n",
       "      <td>NaN</td>\n",
       "      <td>54.367347</td>\n",
       "      <td>316.961633</td>\n",
       "      <td>5.83</td>\n",
       "    </tr>\n",
       "  </tbody>\n",
       "</table>\n",
       "</div>"
      ],
      "text/plain": [
       "   customer_id  product_id  week  price  label  \\\n",
       "0            0           0     1    NaN    NaN   \n",
       "1            0           1     1    NaN    NaN   \n",
       "2            0           2     1    NaN    NaN   \n",
       "3            0           3     1    NaN    NaN   \n",
       "4            0           4     1    NaN    NaN   \n",
       "\n",
       "   avg_n_transactions_weekly_customer  avg_spending_weekly  \\\n",
       "0                            2.489796             15.98551   \n",
       "1                            2.489796             15.98551   \n",
       "2                            2.489796             15.98551   \n",
       "3                            2.489796             15.98551   \n",
       "4                            2.489796             15.98551   \n",
       "\n",
       "   sum_spending_last_week  n_transactions_last_week_customer  \\\n",
       "0                     NaN                                NaN   \n",
       "1                     NaN                                NaN   \n",
       "2                     NaN                                NaN   \n",
       "3                     NaN                                NaN   \n",
       "4                     NaN                                NaN   \n",
       "\n",
       "   avg_n_transactions_weekly_product  avg_returns_weekly  avg_price_weekly  \n",
       "0                          40.285714          232.045714              5.76  \n",
       "1                          44.795918          283.558163              6.33  \n",
       "2                          32.306122          252.310816              7.81  \n",
       "3                          33.102041          235.355510              7.11  \n",
       "4                          54.367347          316.961633              5.83  "
      ]
     },
     "execution_count": 105,
     "metadata": {},
     "output_type": "execute_result"
    }
   ],
   "source": [
    "merged_combo = merged_combo.merge(\n",
    "    right=product_static, \n",
    "    how=\"left\", \n",
    "    on=[\"product_id\"],\n",
    "    validate=\"m:1\"\n",
    "    )\n",
    "print(merged_combo.shape)\n",
    "\n",
    "merged_combo.head()"
   ]
  },
  {
   "cell_type": "code",
   "execution_count": 106,
   "metadata": {},
   "outputs": [
    {
     "name": "stdout",
     "output_type": "stream",
     "text": [
      "(10000000, 15)\n"
     ]
    },
    {
     "data": {
      "text/html": [
       "<div>\n",
       "<style scoped>\n",
       "    .dataframe tbody tr th:only-of-type {\n",
       "        vertical-align: middle;\n",
       "    }\n",
       "\n",
       "    .dataframe tbody tr th {\n",
       "        vertical-align: top;\n",
       "    }\n",
       "\n",
       "    .dataframe thead th {\n",
       "        text-align: right;\n",
       "    }\n",
       "</style>\n",
       "<table border=\"1\" class=\"dataframe\">\n",
       "  <thead>\n",
       "    <tr style=\"text-align: right;\">\n",
       "      <th></th>\n",
       "      <th>customer_id</th>\n",
       "      <th>product_id</th>\n",
       "      <th>week</th>\n",
       "      <th>price</th>\n",
       "      <th>label</th>\n",
       "      <th>avg_n_transactions_weekly_customer</th>\n",
       "      <th>avg_spending_weekly</th>\n",
       "      <th>sum_spending_last_week</th>\n",
       "      <th>n_transactions_last_week_customer</th>\n",
       "      <th>avg_n_transactions_weekly_product</th>\n",
       "      <th>avg_returns_weekly</th>\n",
       "      <th>avg_price_weekly</th>\n",
       "      <th>sum_returns_last_week</th>\n",
       "      <th>n_transactions_last_week_product</th>\n",
       "      <th>last_week_price</th>\n",
       "    </tr>\n",
       "  </thead>\n",
       "  <tbody>\n",
       "    <tr>\n",
       "      <th>0</th>\n",
       "      <td>0</td>\n",
       "      <td>0</td>\n",
       "      <td>1</td>\n",
       "      <td>NaN</td>\n",
       "      <td>NaN</td>\n",
       "      <td>2.489796</td>\n",
       "      <td>15.98551</td>\n",
       "      <td>NaN</td>\n",
       "      <td>NaN</td>\n",
       "      <td>40.285714</td>\n",
       "      <td>232.045714</td>\n",
       "      <td>5.76</td>\n",
       "      <td>NaN</td>\n",
       "      <td>NaN</td>\n",
       "      <td>5.76</td>\n",
       "    </tr>\n",
       "    <tr>\n",
       "      <th>1</th>\n",
       "      <td>0</td>\n",
       "      <td>1</td>\n",
       "      <td>1</td>\n",
       "      <td>NaN</td>\n",
       "      <td>NaN</td>\n",
       "      <td>2.489796</td>\n",
       "      <td>15.98551</td>\n",
       "      <td>NaN</td>\n",
       "      <td>NaN</td>\n",
       "      <td>44.795918</td>\n",
       "      <td>283.558163</td>\n",
       "      <td>6.33</td>\n",
       "      <td>0.0</td>\n",
       "      <td>0.0</td>\n",
       "      <td>6.33</td>\n",
       "    </tr>\n",
       "    <tr>\n",
       "      <th>2</th>\n",
       "      <td>0</td>\n",
       "      <td>2</td>\n",
       "      <td>1</td>\n",
       "      <td>NaN</td>\n",
       "      <td>NaN</td>\n",
       "      <td>2.489796</td>\n",
       "      <td>15.98551</td>\n",
       "      <td>NaN</td>\n",
       "      <td>NaN</td>\n",
       "      <td>32.306122</td>\n",
       "      <td>252.310816</td>\n",
       "      <td>7.81</td>\n",
       "      <td>0.0</td>\n",
       "      <td>0.0</td>\n",
       "      <td>7.81</td>\n",
       "    </tr>\n",
       "    <tr>\n",
       "      <th>3</th>\n",
       "      <td>0</td>\n",
       "      <td>3</td>\n",
       "      <td>1</td>\n",
       "      <td>NaN</td>\n",
       "      <td>NaN</td>\n",
       "      <td>2.489796</td>\n",
       "      <td>15.98551</td>\n",
       "      <td>NaN</td>\n",
       "      <td>NaN</td>\n",
       "      <td>33.102041</td>\n",
       "      <td>235.355510</td>\n",
       "      <td>7.11</td>\n",
       "      <td>0.0</td>\n",
       "      <td>0.0</td>\n",
       "      <td>7.11</td>\n",
       "    </tr>\n",
       "    <tr>\n",
       "      <th>4</th>\n",
       "      <td>0</td>\n",
       "      <td>4</td>\n",
       "      <td>1</td>\n",
       "      <td>NaN</td>\n",
       "      <td>NaN</td>\n",
       "      <td>2.489796</td>\n",
       "      <td>15.98551</td>\n",
       "      <td>NaN</td>\n",
       "      <td>NaN</td>\n",
       "      <td>54.367347</td>\n",
       "      <td>316.961633</td>\n",
       "      <td>5.83</td>\n",
       "      <td>0.0</td>\n",
       "      <td>0.0</td>\n",
       "      <td>5.83</td>\n",
       "    </tr>\n",
       "  </tbody>\n",
       "</table>\n",
       "</div>"
      ],
      "text/plain": [
       "   customer_id  product_id  week  price  label  \\\n",
       "0            0           0     1    NaN    NaN   \n",
       "1            0           1     1    NaN    NaN   \n",
       "2            0           2     1    NaN    NaN   \n",
       "3            0           3     1    NaN    NaN   \n",
       "4            0           4     1    NaN    NaN   \n",
       "\n",
       "   avg_n_transactions_weekly_customer  avg_spending_weekly  \\\n",
       "0                            2.489796             15.98551   \n",
       "1                            2.489796             15.98551   \n",
       "2                            2.489796             15.98551   \n",
       "3                            2.489796             15.98551   \n",
       "4                            2.489796             15.98551   \n",
       "\n",
       "   sum_spending_last_week  n_transactions_last_week_customer  \\\n",
       "0                     NaN                                NaN   \n",
       "1                     NaN                                NaN   \n",
       "2                     NaN                                NaN   \n",
       "3                     NaN                                NaN   \n",
       "4                     NaN                                NaN   \n",
       "\n",
       "   avg_n_transactions_weekly_product  avg_returns_weekly  avg_price_weekly  \\\n",
       "0                          40.285714          232.045714              5.76   \n",
       "1                          44.795918          283.558163              6.33   \n",
       "2                          32.306122          252.310816              7.81   \n",
       "3                          33.102041          235.355510              7.11   \n",
       "4                          54.367347          316.961633              5.83   \n",
       "\n",
       "   sum_returns_last_week  n_transactions_last_week_product  last_week_price  \n",
       "0                    NaN                               NaN             5.76  \n",
       "1                    0.0                               0.0             6.33  \n",
       "2                    0.0                               0.0             7.81  \n",
       "3                    0.0                               0.0             7.11  \n",
       "4                    0.0                               0.0             5.83  "
      ]
     },
     "execution_count": 106,
     "metadata": {},
     "output_type": "execute_result"
    }
   ],
   "source": [
    "merged_combo = merged_combo.merge(\n",
    "    right=product_dynamic, \n",
    "    how=\"left\", \n",
    "    on=[\"product_id\", \"week\"],\n",
    "    validate=\"m:1\"\n",
    "    )\n",
    "print(merged_combo.shape)\n",
    "\n",
    "merged_combo.head()"
   ]
  },
  {
   "cell_type": "code",
   "execution_count": 107,
   "metadata": {},
   "outputs": [
    {
     "data": {
      "text/html": [
       "<div>\n",
       "<style scoped>\n",
       "    .dataframe tbody tr th:only-of-type {\n",
       "        vertical-align: middle;\n",
       "    }\n",
       "\n",
       "    .dataframe tbody tr th {\n",
       "        vertical-align: top;\n",
       "    }\n",
       "\n",
       "    .dataframe thead th {\n",
       "        text-align: right;\n",
       "    }\n",
       "</style>\n",
       "<table border=\"1\" class=\"dataframe\">\n",
       "  <thead>\n",
       "    <tr style=\"text-align: right;\">\n",
       "      <th></th>\n",
       "      <th>customer_id</th>\n",
       "      <th>product_id</th>\n",
       "      <th>week</th>\n",
       "      <th>price</th>\n",
       "      <th>label</th>\n",
       "      <th>avg_n_transactions_weekly_customer</th>\n",
       "      <th>avg_spending_weekly</th>\n",
       "      <th>sum_spending_last_week</th>\n",
       "      <th>n_transactions_last_week_customer</th>\n",
       "      <th>avg_n_transactions_weekly_product</th>\n",
       "      <th>avg_returns_weekly</th>\n",
       "      <th>avg_price_weekly</th>\n",
       "      <th>sum_returns_last_week</th>\n",
       "      <th>n_transactions_last_week_product</th>\n",
       "      <th>last_week_price</th>\n",
       "    </tr>\n",
       "  </thead>\n",
       "  <tbody>\n",
       "    <tr>\n",
       "      <th>9999995</th>\n",
       "      <td>1999</td>\n",
       "      <td>95</td>\n",
       "      <td>50</td>\n",
       "      <td>NaN</td>\n",
       "      <td>0.0</td>\n",
       "      <td>3.489796</td>\n",
       "      <td>21.14551</td>\n",
       "      <td>30.54</td>\n",
       "      <td>5.0</td>\n",
       "      <td>48.122449</td>\n",
       "      <td>323.382857</td>\n",
       "      <td>6.72</td>\n",
       "      <td>342.72</td>\n",
       "      <td>51.0</td>\n",
       "      <td>6.72</td>\n",
       "    </tr>\n",
       "    <tr>\n",
       "      <th>9999996</th>\n",
       "      <td>1999</td>\n",
       "      <td>96</td>\n",
       "      <td>50</td>\n",
       "      <td>NaN</td>\n",
       "      <td>0.0</td>\n",
       "      <td>3.489796</td>\n",
       "      <td>21.14551</td>\n",
       "      <td>30.54</td>\n",
       "      <td>5.0</td>\n",
       "      <td>53.857143</td>\n",
       "      <td>387.771429</td>\n",
       "      <td>7.20</td>\n",
       "      <td>446.40</td>\n",
       "      <td>62.0</td>\n",
       "      <td>7.20</td>\n",
       "    </tr>\n",
       "    <tr>\n",
       "      <th>9999997</th>\n",
       "      <td>1999</td>\n",
       "      <td>97</td>\n",
       "      <td>50</td>\n",
       "      <td>NaN</td>\n",
       "      <td>0.0</td>\n",
       "      <td>3.489796</td>\n",
       "      <td>21.14551</td>\n",
       "      <td>30.54</td>\n",
       "      <td>5.0</td>\n",
       "      <td>84.163265</td>\n",
       "      <td>517.604082</td>\n",
       "      <td>6.15</td>\n",
       "      <td>522.75</td>\n",
       "      <td>85.0</td>\n",
       "      <td>6.15</td>\n",
       "    </tr>\n",
       "    <tr>\n",
       "      <th>9999998</th>\n",
       "      <td>1999</td>\n",
       "      <td>98</td>\n",
       "      <td>50</td>\n",
       "      <td>NaN</td>\n",
       "      <td>0.0</td>\n",
       "      <td>3.489796</td>\n",
       "      <td>21.14551</td>\n",
       "      <td>30.54</td>\n",
       "      <td>5.0</td>\n",
       "      <td>61.959184</td>\n",
       "      <td>355.645714</td>\n",
       "      <td>5.74</td>\n",
       "      <td>350.14</td>\n",
       "      <td>61.0</td>\n",
       "      <td>5.74</td>\n",
       "    </tr>\n",
       "    <tr>\n",
       "      <th>9999999</th>\n",
       "      <td>1999</td>\n",
       "      <td>99</td>\n",
       "      <td>50</td>\n",
       "      <td>NaN</td>\n",
       "      <td>0.0</td>\n",
       "      <td>3.489796</td>\n",
       "      <td>21.14551</td>\n",
       "      <td>30.54</td>\n",
       "      <td>5.0</td>\n",
       "      <td>46.551020</td>\n",
       "      <td>364.028980</td>\n",
       "      <td>7.82</td>\n",
       "      <td>375.36</td>\n",
       "      <td>48.0</td>\n",
       "      <td>7.82</td>\n",
       "    </tr>\n",
       "  </tbody>\n",
       "</table>\n",
       "</div>"
      ],
      "text/plain": [
       "         customer_id  product_id  week  price  label  \\\n",
       "9999995         1999          95    50    NaN    0.0   \n",
       "9999996         1999          96    50    NaN    0.0   \n",
       "9999997         1999          97    50    NaN    0.0   \n",
       "9999998         1999          98    50    NaN    0.0   \n",
       "9999999         1999          99    50    NaN    0.0   \n",
       "\n",
       "         avg_n_transactions_weekly_customer  avg_spending_weekly  \\\n",
       "9999995                            3.489796             21.14551   \n",
       "9999996                            3.489796             21.14551   \n",
       "9999997                            3.489796             21.14551   \n",
       "9999998                            3.489796             21.14551   \n",
       "9999999                            3.489796             21.14551   \n",
       "\n",
       "         sum_spending_last_week  n_transactions_last_week_customer  \\\n",
       "9999995                   30.54                                5.0   \n",
       "9999996                   30.54                                5.0   \n",
       "9999997                   30.54                                5.0   \n",
       "9999998                   30.54                                5.0   \n",
       "9999999                   30.54                                5.0   \n",
       "\n",
       "         avg_n_transactions_weekly_product  avg_returns_weekly  \\\n",
       "9999995                          48.122449          323.382857   \n",
       "9999996                          53.857143          387.771429   \n",
       "9999997                          84.163265          517.604082   \n",
       "9999998                          61.959184          355.645714   \n",
       "9999999                          46.551020          364.028980   \n",
       "\n",
       "         avg_price_weekly  sum_returns_last_week  \\\n",
       "9999995              6.72                 342.72   \n",
       "9999996              7.20                 446.40   \n",
       "9999997              6.15                 522.75   \n",
       "9999998              5.74                 350.14   \n",
       "9999999              7.82                 375.36   \n",
       "\n",
       "         n_transactions_last_week_product  last_week_price  \n",
       "9999995                              51.0             6.72  \n",
       "9999996                              62.0             7.20  \n",
       "9999997                              85.0             6.15  \n",
       "9999998                              61.0             5.74  \n",
       "9999999                              48.0             7.82  "
      ]
     },
     "execution_count": 107,
     "metadata": {},
     "output_type": "execute_result"
    }
   ],
   "source": [
    "merged_combo = merged_combo[merged_combo.week > 1]  # lag/lead features\n",
    "merged_combo.label.fillna(0, inplace=True)          # NaN ~ no transaction\n",
    "merged_combo.tail()"
   ]
  },
  {
   "cell_type": "code",
   "execution_count": 108,
   "metadata": {},
   "outputs": [
    {
     "data": {
      "text/html": [
       "<div>\n",
       "<style scoped>\n",
       "    .dataframe tbody tr th:only-of-type {\n",
       "        vertical-align: middle;\n",
       "    }\n",
       "\n",
       "    .dataframe tbody tr th {\n",
       "        vertical-align: top;\n",
       "    }\n",
       "\n",
       "    .dataframe thead th {\n",
       "        text-align: right;\n",
       "    }\n",
       "</style>\n",
       "<table border=\"1\" class=\"dataframe\">\n",
       "  <thead>\n",
       "    <tr style=\"text-align: right;\">\n",
       "      <th></th>\n",
       "      <th>customer_id</th>\n",
       "      <th>product_id</th>\n",
       "      <th>week</th>\n",
       "      <th>price</th>\n",
       "      <th>label</th>\n",
       "      <th>avg_n_transactions_weekly_customer</th>\n",
       "      <th>avg_spending_weekly</th>\n",
       "      <th>sum_spending_last_week</th>\n",
       "      <th>n_transactions_last_week_customer</th>\n",
       "      <th>avg_n_transactions_weekly_product</th>\n",
       "      <th>avg_returns_weekly</th>\n",
       "      <th>avg_price_weekly</th>\n",
       "      <th>sum_returns_last_week</th>\n",
       "      <th>n_transactions_last_week_product</th>\n",
       "      <th>last_week_price</th>\n",
       "    </tr>\n",
       "  </thead>\n",
       "  <tbody>\n",
       "    <tr>\n",
       "      <th>9999995</th>\n",
       "      <td>1999</td>\n",
       "      <td>95</td>\n",
       "      <td>50</td>\n",
       "      <td>NaN</td>\n",
       "      <td>0</td>\n",
       "      <td>3.489796</td>\n",
       "      <td>21.14551</td>\n",
       "      <td>30.54</td>\n",
       "      <td>5</td>\n",
       "      <td>48.122449</td>\n",
       "      <td>323.382857</td>\n",
       "      <td>6.72</td>\n",
       "      <td>342.72</td>\n",
       "      <td>51</td>\n",
       "      <td>6.72</td>\n",
       "    </tr>\n",
       "    <tr>\n",
       "      <th>9999996</th>\n",
       "      <td>1999</td>\n",
       "      <td>96</td>\n",
       "      <td>50</td>\n",
       "      <td>NaN</td>\n",
       "      <td>0</td>\n",
       "      <td>3.489796</td>\n",
       "      <td>21.14551</td>\n",
       "      <td>30.54</td>\n",
       "      <td>5</td>\n",
       "      <td>53.857143</td>\n",
       "      <td>387.771429</td>\n",
       "      <td>7.20</td>\n",
       "      <td>446.40</td>\n",
       "      <td>62</td>\n",
       "      <td>7.20</td>\n",
       "    </tr>\n",
       "    <tr>\n",
       "      <th>9999997</th>\n",
       "      <td>1999</td>\n",
       "      <td>97</td>\n",
       "      <td>50</td>\n",
       "      <td>NaN</td>\n",
       "      <td>0</td>\n",
       "      <td>3.489796</td>\n",
       "      <td>21.14551</td>\n",
       "      <td>30.54</td>\n",
       "      <td>5</td>\n",
       "      <td>84.163265</td>\n",
       "      <td>517.604082</td>\n",
       "      <td>6.15</td>\n",
       "      <td>522.75</td>\n",
       "      <td>85</td>\n",
       "      <td>6.15</td>\n",
       "    </tr>\n",
       "    <tr>\n",
       "      <th>9999998</th>\n",
       "      <td>1999</td>\n",
       "      <td>98</td>\n",
       "      <td>50</td>\n",
       "      <td>NaN</td>\n",
       "      <td>0</td>\n",
       "      <td>3.489796</td>\n",
       "      <td>21.14551</td>\n",
       "      <td>30.54</td>\n",
       "      <td>5</td>\n",
       "      <td>61.959184</td>\n",
       "      <td>355.645714</td>\n",
       "      <td>5.74</td>\n",
       "      <td>350.14</td>\n",
       "      <td>61</td>\n",
       "      <td>5.74</td>\n",
       "    </tr>\n",
       "    <tr>\n",
       "      <th>9999999</th>\n",
       "      <td>1999</td>\n",
       "      <td>99</td>\n",
       "      <td>50</td>\n",
       "      <td>NaN</td>\n",
       "      <td>0</td>\n",
       "      <td>3.489796</td>\n",
       "      <td>21.14551</td>\n",
       "      <td>30.54</td>\n",
       "      <td>5</td>\n",
       "      <td>46.551020</td>\n",
       "      <td>364.028980</td>\n",
       "      <td>7.82</td>\n",
       "      <td>375.36</td>\n",
       "      <td>48</td>\n",
       "      <td>7.82</td>\n",
       "    </tr>\n",
       "  </tbody>\n",
       "</table>\n",
       "</div>"
      ],
      "text/plain": [
       "         customer_id  product_id  week  price  label  \\\n",
       "9999995         1999          95    50    NaN      0   \n",
       "9999996         1999          96    50    NaN      0   \n",
       "9999997         1999          97    50    NaN      0   \n",
       "9999998         1999          98    50    NaN      0   \n",
       "9999999         1999          99    50    NaN      0   \n",
       "\n",
       "         avg_n_transactions_weekly_customer  avg_spending_weekly  \\\n",
       "9999995                            3.489796             21.14551   \n",
       "9999996                            3.489796             21.14551   \n",
       "9999997                            3.489796             21.14551   \n",
       "9999998                            3.489796             21.14551   \n",
       "9999999                            3.489796             21.14551   \n",
       "\n",
       "         sum_spending_last_week  n_transactions_last_week_customer  \\\n",
       "9999995                   30.54                                  5   \n",
       "9999996                   30.54                                  5   \n",
       "9999997                   30.54                                  5   \n",
       "9999998                   30.54                                  5   \n",
       "9999999                   30.54                                  5   \n",
       "\n",
       "         avg_n_transactions_weekly_product  avg_returns_weekly  \\\n",
       "9999995                          48.122449          323.382857   \n",
       "9999996                          53.857143          387.771429   \n",
       "9999997                          84.163265          517.604082   \n",
       "9999998                          61.959184          355.645714   \n",
       "9999999                          46.551020          364.028980   \n",
       "\n",
       "         avg_price_weekly  sum_returns_last_week  \\\n",
       "9999995              6.72                 342.72   \n",
       "9999996              7.20                 446.40   \n",
       "9999997              6.15                 522.75   \n",
       "9999998              5.74                 350.14   \n",
       "9999999              7.82                 375.36   \n",
       "\n",
       "         n_transactions_last_week_product  last_week_price  \n",
       "9999995                                51             6.72  \n",
       "9999996                                62             7.20  \n",
       "9999997                                85             6.15  \n",
       "9999998                                61             5.74  \n",
       "9999999                                48             7.82  "
      ]
     },
     "execution_count": 108,
     "metadata": {},
     "output_type": "execute_result"
    }
   ],
   "source": [
    "# explicit is better than implicit\n",
    "merged_combo = merged_combo.astype({\n",
    "    \"label\":\"int64\", \n",
    "    \"n_transactions_last_week_customer\":\"int64\", \n",
    "    \"n_transactions_last_week_product\": \"int64\"\n",
    "    })\n",
    "merged_combo.tail()"
   ]
  },
  {
   "cell_type": "code",
   "execution_count": 109,
   "metadata": {},
   "outputs": [],
   "source": [
    "ids = [\"customer_id\", \"product_id\"]\n",
    "training = merged_combo.columns[4:]\n",
    "features = merged_combo.columns[5:]"
   ]
  },
  {
   "cell_type": "code",
   "execution_count": 110,
   "metadata": {},
   "outputs": [],
   "source": [
    "mask = merged_combo.week == 50\n",
    "\n",
    "ids_w_50 = merged_combo[mask][ids]\n",
    "features_w_50 = merged_combo[mask][features]"
   ]
  },
  {
   "cell_type": "code",
   "execution_count": 111,
   "metadata": {},
   "outputs": [
    {
     "data": {
      "text/html": [
       "<div>\n",
       "<style scoped>\n",
       "    .dataframe tbody tr th:only-of-type {\n",
       "        vertical-align: middle;\n",
       "    }\n",
       "\n",
       "    .dataframe tbody tr th {\n",
       "        vertical-align: top;\n",
       "    }\n",
       "\n",
       "    .dataframe thead th {\n",
       "        text-align: right;\n",
       "    }\n",
       "</style>\n",
       "<table border=\"1\" class=\"dataframe\">\n",
       "  <thead>\n",
       "    <tr style=\"text-align: right;\">\n",
       "      <th></th>\n",
       "      <th>customer_id</th>\n",
       "      <th>product_id</th>\n",
       "    </tr>\n",
       "  </thead>\n",
       "  <tbody>\n",
       "    <tr>\n",
       "      <th>9800000</th>\n",
       "      <td>0</td>\n",
       "      <td>0</td>\n",
       "    </tr>\n",
       "    <tr>\n",
       "      <th>9800001</th>\n",
       "      <td>0</td>\n",
       "      <td>1</td>\n",
       "    </tr>\n",
       "    <tr>\n",
       "      <th>9800002</th>\n",
       "      <td>0</td>\n",
       "      <td>2</td>\n",
       "    </tr>\n",
       "  </tbody>\n",
       "</table>\n",
       "</div>"
      ],
      "text/plain": [
       "         customer_id  product_id\n",
       "9800000            0           0\n",
       "9800001            0           1\n",
       "9800002            0           2"
      ]
     },
     "execution_count": 111,
     "metadata": {},
     "output_type": "execute_result"
    }
   ],
   "source": [
    "ids_w_50.head(3)"
   ]
  },
  {
   "cell_type": "code",
   "execution_count": 112,
   "metadata": {},
   "outputs": [
    {
     "data": {
      "text/html": [
       "<div>\n",
       "<style scoped>\n",
       "    .dataframe tbody tr th:only-of-type {\n",
       "        vertical-align: middle;\n",
       "    }\n",
       "\n",
       "    .dataframe tbody tr th {\n",
       "        vertical-align: top;\n",
       "    }\n",
       "\n",
       "    .dataframe thead th {\n",
       "        text-align: right;\n",
       "    }\n",
       "</style>\n",
       "<table border=\"1\" class=\"dataframe\">\n",
       "  <thead>\n",
       "    <tr style=\"text-align: right;\">\n",
       "      <th></th>\n",
       "      <th>avg_n_transactions_weekly_customer</th>\n",
       "      <th>avg_spending_weekly</th>\n",
       "      <th>sum_spending_last_week</th>\n",
       "      <th>n_transactions_last_week_customer</th>\n",
       "      <th>avg_n_transactions_weekly_product</th>\n",
       "      <th>avg_returns_weekly</th>\n",
       "      <th>avg_price_weekly</th>\n",
       "      <th>sum_returns_last_week</th>\n",
       "      <th>n_transactions_last_week_product</th>\n",
       "      <th>last_week_price</th>\n",
       "    </tr>\n",
       "  </thead>\n",
       "  <tbody>\n",
       "    <tr>\n",
       "      <th>9800000</th>\n",
       "      <td>2.489796</td>\n",
       "      <td>15.98551</td>\n",
       "      <td>14.48</td>\n",
       "      <td>2</td>\n",
       "      <td>40.285714</td>\n",
       "      <td>232.045714</td>\n",
       "      <td>5.76</td>\n",
       "      <td>236.16</td>\n",
       "      <td>41</td>\n",
       "      <td>5.76</td>\n",
       "    </tr>\n",
       "    <tr>\n",
       "      <th>9800001</th>\n",
       "      <td>2.489796</td>\n",
       "      <td>15.98551</td>\n",
       "      <td>14.48</td>\n",
       "      <td>2</td>\n",
       "      <td>44.795918</td>\n",
       "      <td>283.558163</td>\n",
       "      <td>6.33</td>\n",
       "      <td>316.50</td>\n",
       "      <td>50</td>\n",
       "      <td>6.33</td>\n",
       "    </tr>\n",
       "    <tr>\n",
       "      <th>9800002</th>\n",
       "      <td>2.489796</td>\n",
       "      <td>15.98551</td>\n",
       "      <td>14.48</td>\n",
       "      <td>2</td>\n",
       "      <td>32.306122</td>\n",
       "      <td>252.310816</td>\n",
       "      <td>7.81</td>\n",
       "      <td>265.54</td>\n",
       "      <td>34</td>\n",
       "      <td>7.81</td>\n",
       "    </tr>\n",
       "  </tbody>\n",
       "</table>\n",
       "</div>"
      ],
      "text/plain": [
       "         avg_n_transactions_weekly_customer  avg_spending_weekly  \\\n",
       "9800000                            2.489796             15.98551   \n",
       "9800001                            2.489796             15.98551   \n",
       "9800002                            2.489796             15.98551   \n",
       "\n",
       "         sum_spending_last_week  n_transactions_last_week_customer  \\\n",
       "9800000                   14.48                                  2   \n",
       "9800001                   14.48                                  2   \n",
       "9800002                   14.48                                  2   \n",
       "\n",
       "         avg_n_transactions_weekly_product  avg_returns_weekly  \\\n",
       "9800000                          40.285714          232.045714   \n",
       "9800001                          44.795918          283.558163   \n",
       "9800002                          32.306122          252.310816   \n",
       "\n",
       "         avg_price_weekly  sum_returns_last_week  \\\n",
       "9800000              5.76                 236.16   \n",
       "9800001              6.33                 316.50   \n",
       "9800002              7.81                 265.54   \n",
       "\n",
       "         n_transactions_last_week_product  last_week_price  \n",
       "9800000                                41             5.76  \n",
       "9800001                                50             6.33  \n",
       "9800002                                34             7.81  "
      ]
     },
     "execution_count": 112,
     "metadata": {},
     "output_type": "execute_result"
    }
   ],
   "source": [
    "features_w_50.head(3)"
   ]
  },
  {
   "cell_type": "code",
   "execution_count": 113,
   "metadata": {},
   "outputs": [
    {
     "name": "stdout",
     "output_type": "stream",
     "text": [
      "(9600000, 11)\n"
     ]
    },
    {
     "data": {
      "text/html": [
       "<div>\n",
       "<style scoped>\n",
       "    .dataframe tbody tr th:only-of-type {\n",
       "        vertical-align: middle;\n",
       "    }\n",
       "\n",
       "    .dataframe tbody tr th {\n",
       "        vertical-align: top;\n",
       "    }\n",
       "\n",
       "    .dataframe thead th {\n",
       "        text-align: right;\n",
       "    }\n",
       "</style>\n",
       "<table border=\"1\" class=\"dataframe\">\n",
       "  <thead>\n",
       "    <tr style=\"text-align: right;\">\n",
       "      <th></th>\n",
       "      <th>label</th>\n",
       "      <th>avg_n_transactions_weekly_customer</th>\n",
       "      <th>avg_spending_weekly</th>\n",
       "      <th>sum_spending_last_week</th>\n",
       "      <th>n_transactions_last_week_customer</th>\n",
       "      <th>avg_n_transactions_weekly_product</th>\n",
       "      <th>avg_returns_weekly</th>\n",
       "      <th>avg_price_weekly</th>\n",
       "      <th>sum_returns_last_week</th>\n",
       "      <th>n_transactions_last_week_product</th>\n",
       "      <th>last_week_price</th>\n",
       "    </tr>\n",
       "  </thead>\n",
       "  <tbody>\n",
       "    <tr>\n",
       "      <th>200000</th>\n",
       "      <td>0</td>\n",
       "      <td>2.489796</td>\n",
       "      <td>15.98551</td>\n",
       "      <td>25.39</td>\n",
       "      <td>4</td>\n",
       "      <td>40.285714</td>\n",
       "      <td>232.045714</td>\n",
       "      <td>5.76</td>\n",
       "      <td>207.36</td>\n",
       "      <td>36</td>\n",
       "      <td>5.76</td>\n",
       "    </tr>\n",
       "    <tr>\n",
       "      <th>200001</th>\n",
       "      <td>0</td>\n",
       "      <td>2.489796</td>\n",
       "      <td>15.98551</td>\n",
       "      <td>25.39</td>\n",
       "      <td>4</td>\n",
       "      <td>44.795918</td>\n",
       "      <td>283.558163</td>\n",
       "      <td>6.33</td>\n",
       "      <td>303.84</td>\n",
       "      <td>48</td>\n",
       "      <td>6.33</td>\n",
       "    </tr>\n",
       "    <tr>\n",
       "      <th>200002</th>\n",
       "      <td>0</td>\n",
       "      <td>2.489796</td>\n",
       "      <td>15.98551</td>\n",
       "      <td>25.39</td>\n",
       "      <td>4</td>\n",
       "      <td>32.306122</td>\n",
       "      <td>252.310816</td>\n",
       "      <td>7.81</td>\n",
       "      <td>234.30</td>\n",
       "      <td>30</td>\n",
       "      <td>7.81</td>\n",
       "    </tr>\n",
       "  </tbody>\n",
       "</table>\n",
       "</div>"
      ],
      "text/plain": [
       "        label  avg_n_transactions_weekly_customer  avg_spending_weekly  \\\n",
       "200000      0                            2.489796             15.98551   \n",
       "200001      0                            2.489796             15.98551   \n",
       "200002      0                            2.489796             15.98551   \n",
       "\n",
       "        sum_spending_last_week  n_transactions_last_week_customer  \\\n",
       "200000                   25.39                                  4   \n",
       "200001                   25.39                                  4   \n",
       "200002                   25.39                                  4   \n",
       "\n",
       "        avg_n_transactions_weekly_product  avg_returns_weekly  \\\n",
       "200000                          40.285714          232.045714   \n",
       "200001                          44.795918          283.558163   \n",
       "200002                          32.306122          252.310816   \n",
       "\n",
       "        avg_price_weekly  sum_returns_last_week  \\\n",
       "200000              5.76                 207.36   \n",
       "200001              6.33                 303.84   \n",
       "200002              7.81                 234.30   \n",
       "\n",
       "        n_transactions_last_week_product  last_week_price  \n",
       "200000                                36             5.76  \n",
       "200001                                48             6.33  \n",
       "200002                                30             7.81  "
      ]
     },
     "execution_count": 113,
     "metadata": {},
     "output_type": "execute_result"
    }
   ],
   "source": [
    "df_training = merged_combo[~mask][training]\n",
    "\n",
    "print(df_training.shape)\n",
    "df_training.head(3)"
   ]
  },
  {
   "cell_type": "code",
   "execution_count": 114,
   "metadata": {},
   "outputs": [
    {
     "data": {
      "text/plain": [
       "0.031408125"
      ]
     },
     "execution_count": 114,
     "metadata": {},
     "output_type": "execute_result"
    }
   ],
   "source": [
    "df_training.label.mean()"
   ]
  },
  {
   "cell_type": "code",
   "execution_count": 115,
   "metadata": {},
   "outputs": [],
   "source": [
    "#df_training.to_parquet(\"training.parquet\")"
   ]
  },
  {
   "cell_type": "markdown",
   "metadata": {},
   "source": [
    "Features are correlating more with each other than with the label. We need more & better features. Maybe we could predict the price for week 50? The difference to week 49 might have some influence... Good idea. However, it turns out that prices in this example are constant. Thus we can remove 'last_week_price' and 'avg_price_weekly' and simply use the price."
   ]
  },
  {
   "cell_type": "code",
   "execution_count": 116,
   "metadata": {},
   "outputs": [
    {
     "data": {
      "text/html": [
       "<style type=\"text/css\">\n",
       "#T_cfeed_row0_col0, #T_cfeed_row1_col1, #T_cfeed_row2_col2, #T_cfeed_row3_col3, #T_cfeed_row4_col4, #T_cfeed_row5_col5, #T_cfeed_row6_col6, #T_cfeed_row7_col7, #T_cfeed_row7_col10, #T_cfeed_row8_col8, #T_cfeed_row9_col9, #T_cfeed_row10_col7, #T_cfeed_row10_col10 {\n",
       "  background-color: #b40426;\n",
       "  color: #f1f1f1;\n",
       "}\n",
       "#T_cfeed_row0_col1, #T_cfeed_row0_col2 {\n",
       "  background-color: #4358cb;\n",
       "  color: #f1f1f1;\n",
       "}\n",
       "#T_cfeed_row0_col3, #T_cfeed_row0_col4 {\n",
       "  background-color: #3c4ec2;\n",
       "  color: #f1f1f1;\n",
       "}\n",
       "#T_cfeed_row0_col5, #T_cfeed_row0_col9 {\n",
       "  background-color: #5b7ae5;\n",
       "  color: #f1f1f1;\n",
       "}\n",
       "#T_cfeed_row0_col6, #T_cfeed_row5_col0 {\n",
       "  background-color: #5a78e4;\n",
       "  color: #f1f1f1;\n",
       "}\n",
       "#T_cfeed_row0_col7, #T_cfeed_row0_col10, #T_cfeed_row2_col0 {\n",
       "  background-color: #4055c8;\n",
       "  color: #f1f1f1;\n",
       "}\n",
       "#T_cfeed_row0_col8, #T_cfeed_row9_col0 {\n",
       "  background-color: #5977e3;\n",
       "  color: #f1f1f1;\n",
       "}\n",
       "#T_cfeed_row1_col0 {\n",
       "  background-color: #4257c9;\n",
       "  color: #f1f1f1;\n",
       "}\n",
       "#T_cfeed_row1_col2, #T_cfeed_row2_col1 {\n",
       "  background-color: #be242e;\n",
       "  color: #f1f1f1;\n",
       "}\n",
       "#T_cfeed_row1_col3, #T_cfeed_row3_col1 {\n",
       "  background-color: #bad0f8;\n",
       "  color: #000000;\n",
       "}\n",
       "#T_cfeed_row1_col4, #T_cfeed_row4_col1 {\n",
       "  background-color: #bbd1f8;\n",
       "  color: #000000;\n",
       "}\n",
       "#T_cfeed_row1_col5, #T_cfeed_row1_col6, #T_cfeed_row1_col7, #T_cfeed_row1_col8, #T_cfeed_row1_col9, #T_cfeed_row1_col10, #T_cfeed_row2_col5, #T_cfeed_row2_col6, #T_cfeed_row2_col7, #T_cfeed_row2_col8, #T_cfeed_row2_col9, #T_cfeed_row2_col10, #T_cfeed_row3_col0, #T_cfeed_row3_col5, #T_cfeed_row3_col6, #T_cfeed_row3_col7, #T_cfeed_row3_col8, #T_cfeed_row3_col9, #T_cfeed_row3_col10, #T_cfeed_row4_col0, #T_cfeed_row4_col5, #T_cfeed_row4_col6, #T_cfeed_row4_col7, #T_cfeed_row4_col8, #T_cfeed_row4_col9, #T_cfeed_row4_col10, #T_cfeed_row5_col1, #T_cfeed_row5_col2, #T_cfeed_row5_col3, #T_cfeed_row5_col4, #T_cfeed_row6_col1, #T_cfeed_row6_col2, #T_cfeed_row6_col3, #T_cfeed_row6_col4, #T_cfeed_row7_col1, #T_cfeed_row7_col2, #T_cfeed_row7_col3, #T_cfeed_row7_col4, #T_cfeed_row8_col1, #T_cfeed_row8_col2, #T_cfeed_row8_col3, #T_cfeed_row8_col4, #T_cfeed_row9_col1, #T_cfeed_row9_col2, #T_cfeed_row9_col3, #T_cfeed_row9_col4, #T_cfeed_row10_col1, #T_cfeed_row10_col2, #T_cfeed_row10_col3, #T_cfeed_row10_col4 {\n",
       "  background-color: #3b4cc0;\n",
       "  color: #f1f1f1;\n",
       "}\n",
       "#T_cfeed_row2_col3, #T_cfeed_row3_col2 {\n",
       "  background-color: #bed2f6;\n",
       "  color: #000000;\n",
       "}\n",
       "#T_cfeed_row2_col4, #T_cfeed_row4_col2 {\n",
       "  background-color: #b9d0f9;\n",
       "  color: #000000;\n",
       "}\n",
       "#T_cfeed_row3_col4, #T_cfeed_row4_col3, #T_cfeed_row6_col8, #T_cfeed_row8_col6 {\n",
       "  background-color: #ba162b;\n",
       "  color: #f1f1f1;\n",
       "}\n",
       "#T_cfeed_row5_col6, #T_cfeed_row6_col5 {\n",
       "  background-color: #c83836;\n",
       "  color: #f1f1f1;\n",
       "}\n",
       "#T_cfeed_row5_col7, #T_cfeed_row5_col10, #T_cfeed_row7_col5, #T_cfeed_row7_col9, #T_cfeed_row9_col7, #T_cfeed_row9_col10, #T_cfeed_row10_col5, #T_cfeed_row10_col9 {\n",
       "  background-color: #7699f6;\n",
       "  color: #f1f1f1;\n",
       "}\n",
       "#T_cfeed_row5_col8, #T_cfeed_row6_col9, #T_cfeed_row8_col5, #T_cfeed_row9_col6 {\n",
       "  background-color: #cc403a;\n",
       "  color: #f1f1f1;\n",
       "}\n",
       "#T_cfeed_row5_col9, #T_cfeed_row9_col5 {\n",
       "  background-color: #b8122a;\n",
       "  color: #f1f1f1;\n",
       "}\n",
       "#T_cfeed_row6_col0, #T_cfeed_row6_col7, #T_cfeed_row6_col10, #T_cfeed_row7_col6, #T_cfeed_row8_col0, #T_cfeed_row10_col6 {\n",
       "  background-color: #5875e1;\n",
       "  color: #f1f1f1;\n",
       "}\n",
       "#T_cfeed_row7_col0, #T_cfeed_row10_col0 {\n",
       "  background-color: #3e51c5;\n",
       "  color: #f1f1f1;\n",
       "}\n",
       "#T_cfeed_row7_col8, #T_cfeed_row8_col7, #T_cfeed_row8_col10, #T_cfeed_row10_col8 {\n",
       "  background-color: #5673e0;\n",
       "  color: #f1f1f1;\n",
       "}\n",
       "#T_cfeed_row8_col9, #T_cfeed_row9_col8 {\n",
       "  background-color: #c73635;\n",
       "  color: #f1f1f1;\n",
       "}\n",
       "</style>\n",
       "<table id=\"T_cfeed\">\n",
       "  <thead>\n",
       "    <tr>\n",
       "      <th class=\"blank level0\" >&nbsp;</th>\n",
       "      <th id=\"T_cfeed_level0_col0\" class=\"col_heading level0 col0\" >label</th>\n",
       "      <th id=\"T_cfeed_level0_col1\" class=\"col_heading level0 col1\" >avg_n_transactions_weekly_customer</th>\n",
       "      <th id=\"T_cfeed_level0_col2\" class=\"col_heading level0 col2\" >avg_spending_weekly</th>\n",
       "      <th id=\"T_cfeed_level0_col3\" class=\"col_heading level0 col3\" >sum_spending_last_week</th>\n",
       "      <th id=\"T_cfeed_level0_col4\" class=\"col_heading level0 col4\" >n_transactions_last_week_customer</th>\n",
       "      <th id=\"T_cfeed_level0_col5\" class=\"col_heading level0 col5\" >avg_n_transactions_weekly_product</th>\n",
       "      <th id=\"T_cfeed_level0_col6\" class=\"col_heading level0 col6\" >avg_returns_weekly</th>\n",
       "      <th id=\"T_cfeed_level0_col7\" class=\"col_heading level0 col7\" >avg_price_weekly</th>\n",
       "      <th id=\"T_cfeed_level0_col8\" class=\"col_heading level0 col8\" >sum_returns_last_week</th>\n",
       "      <th id=\"T_cfeed_level0_col9\" class=\"col_heading level0 col9\" >n_transactions_last_week_product</th>\n",
       "      <th id=\"T_cfeed_level0_col10\" class=\"col_heading level0 col10\" >last_week_price</th>\n",
       "    </tr>\n",
       "  </thead>\n",
       "  <tbody>\n",
       "    <tr>\n",
       "      <th id=\"T_cfeed_level0_row0\" class=\"row_heading level0 row0\" >label</th>\n",
       "      <td id=\"T_cfeed_row0_col0\" class=\"data row0 col0\" >1.000000</td>\n",
       "      <td id=\"T_cfeed_row0_col1\" class=\"data row0 col1\" >0.031000</td>\n",
       "      <td id=\"T_cfeed_row0_col2\" class=\"data row0 col2\" >0.030000</td>\n",
       "      <td id=\"T_cfeed_row0_col3\" class=\"data row0 col3\" >0.007000</td>\n",
       "      <td id=\"T_cfeed_row0_col4\" class=\"data row0 col4\" >0.007000</td>\n",
       "      <td id=\"T_cfeed_row0_col5\" class=\"data row0 col5\" >0.109000</td>\n",
       "      <td id=\"T_cfeed_row0_col6\" class=\"data row0 col6\" >0.103000</td>\n",
       "      <td id=\"T_cfeed_row0_col7\" class=\"data row0 col7\" >0.020000</td>\n",
       "      <td id=\"T_cfeed_row0_col8\" class=\"data row0 col8\" >0.101000</td>\n",
       "      <td id=\"T_cfeed_row0_col9\" class=\"data row0 col9\" >0.107000</td>\n",
       "      <td id=\"T_cfeed_row0_col10\" class=\"data row0 col10\" >0.020000</td>\n",
       "    </tr>\n",
       "    <tr>\n",
       "      <th id=\"T_cfeed_level0_row1\" class=\"row_heading level0 row1\" >avg_n_transactions_weekly_customer</th>\n",
       "      <td id=\"T_cfeed_row1_col0\" class=\"data row1 col0\" >0.031000</td>\n",
       "      <td id=\"T_cfeed_row1_col1\" class=\"data row1 col1\" >1.000000</td>\n",
       "      <td id=\"T_cfeed_row1_col2\" class=\"data row1 col2\" >0.970000</td>\n",
       "      <td id=\"T_cfeed_row1_col3\" class=\"data row1 col3\" >0.379000</td>\n",
       "      <td id=\"T_cfeed_row1_col4\" class=\"data row1 col4\" >0.386000</td>\n",
       "      <td id=\"T_cfeed_row1_col5\" class=\"data row1 col5\" >0.000000</td>\n",
       "      <td id=\"T_cfeed_row1_col6\" class=\"data row1 col6\" >0.000000</td>\n",
       "      <td id=\"T_cfeed_row1_col7\" class=\"data row1 col7\" >0.000000</td>\n",
       "      <td id=\"T_cfeed_row1_col8\" class=\"data row1 col8\" >0.000000</td>\n",
       "      <td id=\"T_cfeed_row1_col9\" class=\"data row1 col9\" >0.000000</td>\n",
       "      <td id=\"T_cfeed_row1_col10\" class=\"data row1 col10\" >0.000000</td>\n",
       "    </tr>\n",
       "    <tr>\n",
       "      <th id=\"T_cfeed_level0_row2\" class=\"row_heading level0 row2\" >avg_spending_weekly</th>\n",
       "      <td id=\"T_cfeed_row2_col0\" class=\"data row2 col0\" >0.030000</td>\n",
       "      <td id=\"T_cfeed_row2_col1\" class=\"data row2 col1\" >0.970000</td>\n",
       "      <td id=\"T_cfeed_row2_col2\" class=\"data row2 col2\" >1.000000</td>\n",
       "      <td id=\"T_cfeed_row2_col3\" class=\"data row2 col3\" >0.391000</td>\n",
       "      <td id=\"T_cfeed_row2_col4\" class=\"data row2 col4\" >0.375000</td>\n",
       "      <td id=\"T_cfeed_row2_col5\" class=\"data row2 col5\" >0.000000</td>\n",
       "      <td id=\"T_cfeed_row2_col6\" class=\"data row2 col6\" >0.000000</td>\n",
       "      <td id=\"T_cfeed_row2_col7\" class=\"data row2 col7\" >0.000000</td>\n",
       "      <td id=\"T_cfeed_row2_col8\" class=\"data row2 col8\" >0.000000</td>\n",
       "      <td id=\"T_cfeed_row2_col9\" class=\"data row2 col9\" >0.000000</td>\n",
       "      <td id=\"T_cfeed_row2_col10\" class=\"data row2 col10\" >0.000000</td>\n",
       "    </tr>\n",
       "    <tr>\n",
       "      <th id=\"T_cfeed_level0_row3\" class=\"row_heading level0 row3\" >sum_spending_last_week</th>\n",
       "      <td id=\"T_cfeed_row3_col0\" class=\"data row3 col0\" >0.007000</td>\n",
       "      <td id=\"T_cfeed_row3_col1\" class=\"data row3 col1\" >0.379000</td>\n",
       "      <td id=\"T_cfeed_row3_col2\" class=\"data row3 col2\" >0.391000</td>\n",
       "      <td id=\"T_cfeed_row3_col3\" class=\"data row3 col3\" >1.000000</td>\n",
       "      <td id=\"T_cfeed_row3_col4\" class=\"data row3 col4\" >0.982000</td>\n",
       "      <td id=\"T_cfeed_row3_col5\" class=\"data row3 col5\" >0.000000</td>\n",
       "      <td id=\"T_cfeed_row3_col6\" class=\"data row3 col6\" >0.000000</td>\n",
       "      <td id=\"T_cfeed_row3_col7\" class=\"data row3 col7\" >0.000000</td>\n",
       "      <td id=\"T_cfeed_row3_col8\" class=\"data row3 col8\" >0.000000</td>\n",
       "      <td id=\"T_cfeed_row3_col9\" class=\"data row3 col9\" >0.000000</td>\n",
       "      <td id=\"T_cfeed_row3_col10\" class=\"data row3 col10\" >0.000000</td>\n",
       "    </tr>\n",
       "    <tr>\n",
       "      <th id=\"T_cfeed_level0_row4\" class=\"row_heading level0 row4\" >n_transactions_last_week_customer</th>\n",
       "      <td id=\"T_cfeed_row4_col0\" class=\"data row4 col0\" >0.007000</td>\n",
       "      <td id=\"T_cfeed_row4_col1\" class=\"data row4 col1\" >0.386000</td>\n",
       "      <td id=\"T_cfeed_row4_col2\" class=\"data row4 col2\" >0.375000</td>\n",
       "      <td id=\"T_cfeed_row4_col3\" class=\"data row4 col3\" >0.982000</td>\n",
       "      <td id=\"T_cfeed_row4_col4\" class=\"data row4 col4\" >1.000000</td>\n",
       "      <td id=\"T_cfeed_row4_col5\" class=\"data row4 col5\" >0.000000</td>\n",
       "      <td id=\"T_cfeed_row4_col6\" class=\"data row4 col6\" >0.000000</td>\n",
       "      <td id=\"T_cfeed_row4_col7\" class=\"data row4 col7\" >0.000000</td>\n",
       "      <td id=\"T_cfeed_row4_col8\" class=\"data row4 col8\" >0.000000</td>\n",
       "      <td id=\"T_cfeed_row4_col9\" class=\"data row4 col9\" >0.000000</td>\n",
       "      <td id=\"T_cfeed_row4_col10\" class=\"data row4 col10\" >0.000000</td>\n",
       "    </tr>\n",
       "    <tr>\n",
       "      <th id=\"T_cfeed_level0_row5\" class=\"row_heading level0 row5\" >avg_n_transactions_weekly_product</th>\n",
       "      <td id=\"T_cfeed_row5_col0\" class=\"data row5 col0\" >0.109000</td>\n",
       "      <td id=\"T_cfeed_row5_col1\" class=\"data row5 col1\" >0.000000</td>\n",
       "      <td id=\"T_cfeed_row5_col2\" class=\"data row5 col2\" >0.000000</td>\n",
       "      <td id=\"T_cfeed_row5_col3\" class=\"data row5 col3\" >0.000000</td>\n",
       "      <td id=\"T_cfeed_row5_col4\" class=\"data row5 col4\" >0.000000</td>\n",
       "      <td id=\"T_cfeed_row5_col5\" class=\"data row5 col5\" >1.000000</td>\n",
       "      <td id=\"T_cfeed_row5_col6\" class=\"data row5 col6\" >0.945000</td>\n",
       "      <td id=\"T_cfeed_row5_col7\" class=\"data row5 col7\" >0.186000</td>\n",
       "      <td id=\"T_cfeed_row5_col8\" class=\"data row5 col8\" >0.931000</td>\n",
       "      <td id=\"T_cfeed_row5_col9\" class=\"data row5 col9\" >0.986000</td>\n",
       "      <td id=\"T_cfeed_row5_col10\" class=\"data row5 col10\" >0.186000</td>\n",
       "    </tr>\n",
       "    <tr>\n",
       "      <th id=\"T_cfeed_level0_row6\" class=\"row_heading level0 row6\" >avg_returns_weekly</th>\n",
       "      <td id=\"T_cfeed_row6_col0\" class=\"data row6 col0\" >0.103000</td>\n",
       "      <td id=\"T_cfeed_row6_col1\" class=\"data row6 col1\" >0.000000</td>\n",
       "      <td id=\"T_cfeed_row6_col2\" class=\"data row6 col2\" >0.000000</td>\n",
       "      <td id=\"T_cfeed_row6_col3\" class=\"data row6 col3\" >0.000000</td>\n",
       "      <td id=\"T_cfeed_row6_col4\" class=\"data row6 col4\" >0.000000</td>\n",
       "      <td id=\"T_cfeed_row6_col5\" class=\"data row6 col5\" >0.945000</td>\n",
       "      <td id=\"T_cfeed_row6_col6\" class=\"data row6 col6\" >1.000000</td>\n",
       "      <td id=\"T_cfeed_row6_col7\" class=\"data row6 col7\" >0.094000</td>\n",
       "      <td id=\"T_cfeed_row6_col8\" class=\"data row6 col8\" >0.984000</td>\n",
       "      <td id=\"T_cfeed_row6_col9\" class=\"data row6 col9\" >0.932000</td>\n",
       "      <td id=\"T_cfeed_row6_col10\" class=\"data row6 col10\" >0.094000</td>\n",
       "    </tr>\n",
       "    <tr>\n",
       "      <th id=\"T_cfeed_level0_row7\" class=\"row_heading level0 row7\" >avg_price_weekly</th>\n",
       "      <td id=\"T_cfeed_row7_col0\" class=\"data row7 col0\" >0.020000</td>\n",
       "      <td id=\"T_cfeed_row7_col1\" class=\"data row7 col1\" >0.000000</td>\n",
       "      <td id=\"T_cfeed_row7_col2\" class=\"data row7 col2\" >0.000000</td>\n",
       "      <td id=\"T_cfeed_row7_col3\" class=\"data row7 col3\" >0.000000</td>\n",
       "      <td id=\"T_cfeed_row7_col4\" class=\"data row7 col4\" >0.000000</td>\n",
       "      <td id=\"T_cfeed_row7_col5\" class=\"data row7 col5\" >0.186000</td>\n",
       "      <td id=\"T_cfeed_row7_col6\" class=\"data row7 col6\" >0.094000</td>\n",
       "      <td id=\"T_cfeed_row7_col7\" class=\"data row7 col7\" >1.000000</td>\n",
       "      <td id=\"T_cfeed_row7_col8\" class=\"data row7 col8\" >0.092000</td>\n",
       "      <td id=\"T_cfeed_row7_col9\" class=\"data row7 col9\" >0.184000</td>\n",
       "      <td id=\"T_cfeed_row7_col10\" class=\"data row7 col10\" >1.000000</td>\n",
       "    </tr>\n",
       "    <tr>\n",
       "      <th id=\"T_cfeed_level0_row8\" class=\"row_heading level0 row8\" >sum_returns_last_week</th>\n",
       "      <td id=\"T_cfeed_row8_col0\" class=\"data row8 col0\" >0.101000</td>\n",
       "      <td id=\"T_cfeed_row8_col1\" class=\"data row8 col1\" >0.000000</td>\n",
       "      <td id=\"T_cfeed_row8_col2\" class=\"data row8 col2\" >0.000000</td>\n",
       "      <td id=\"T_cfeed_row8_col3\" class=\"data row8 col3\" >0.000000</td>\n",
       "      <td id=\"T_cfeed_row8_col4\" class=\"data row8 col4\" >0.000000</td>\n",
       "      <td id=\"T_cfeed_row8_col5\" class=\"data row8 col5\" >0.931000</td>\n",
       "      <td id=\"T_cfeed_row8_col6\" class=\"data row8 col6\" >0.984000</td>\n",
       "      <td id=\"T_cfeed_row8_col7\" class=\"data row8 col7\" >0.092000</td>\n",
       "      <td id=\"T_cfeed_row8_col8\" class=\"data row8 col8\" >1.000000</td>\n",
       "      <td id=\"T_cfeed_row8_col9\" class=\"data row8 col9\" >0.947000</td>\n",
       "      <td id=\"T_cfeed_row8_col10\" class=\"data row8 col10\" >0.092000</td>\n",
       "    </tr>\n",
       "    <tr>\n",
       "      <th id=\"T_cfeed_level0_row9\" class=\"row_heading level0 row9\" >n_transactions_last_week_product</th>\n",
       "      <td id=\"T_cfeed_row9_col0\" class=\"data row9 col0\" >0.107000</td>\n",
       "      <td id=\"T_cfeed_row9_col1\" class=\"data row9 col1\" >0.000000</td>\n",
       "      <td id=\"T_cfeed_row9_col2\" class=\"data row9 col2\" >0.000000</td>\n",
       "      <td id=\"T_cfeed_row9_col3\" class=\"data row9 col3\" >0.000000</td>\n",
       "      <td id=\"T_cfeed_row9_col4\" class=\"data row9 col4\" >0.000000</td>\n",
       "      <td id=\"T_cfeed_row9_col5\" class=\"data row9 col5\" >0.986000</td>\n",
       "      <td id=\"T_cfeed_row9_col6\" class=\"data row9 col6\" >0.932000</td>\n",
       "      <td id=\"T_cfeed_row9_col7\" class=\"data row9 col7\" >0.184000</td>\n",
       "      <td id=\"T_cfeed_row9_col8\" class=\"data row9 col8\" >0.947000</td>\n",
       "      <td id=\"T_cfeed_row9_col9\" class=\"data row9 col9\" >1.000000</td>\n",
       "      <td id=\"T_cfeed_row9_col10\" class=\"data row9 col10\" >0.184000</td>\n",
       "    </tr>\n",
       "    <tr>\n",
       "      <th id=\"T_cfeed_level0_row10\" class=\"row_heading level0 row10\" >last_week_price</th>\n",
       "      <td id=\"T_cfeed_row10_col0\" class=\"data row10 col0\" >0.020000</td>\n",
       "      <td id=\"T_cfeed_row10_col1\" class=\"data row10 col1\" >0.000000</td>\n",
       "      <td id=\"T_cfeed_row10_col2\" class=\"data row10 col2\" >0.000000</td>\n",
       "      <td id=\"T_cfeed_row10_col3\" class=\"data row10 col3\" >0.000000</td>\n",
       "      <td id=\"T_cfeed_row10_col4\" class=\"data row10 col4\" >0.000000</td>\n",
       "      <td id=\"T_cfeed_row10_col5\" class=\"data row10 col5\" >0.186000</td>\n",
       "      <td id=\"T_cfeed_row10_col6\" class=\"data row10 col6\" >0.094000</td>\n",
       "      <td id=\"T_cfeed_row10_col7\" class=\"data row10 col7\" >1.000000</td>\n",
       "      <td id=\"T_cfeed_row10_col8\" class=\"data row10 col8\" >0.092000</td>\n",
       "      <td id=\"T_cfeed_row10_col9\" class=\"data row10 col9\" >0.184000</td>\n",
       "      <td id=\"T_cfeed_row10_col10\" class=\"data row10 col10\" >1.000000</td>\n",
       "    </tr>\n",
       "  </tbody>\n",
       "</table>\n"
      ],
      "text/plain": [
       "<pandas.io.formats.style.Styler at 0x131b02730>"
      ]
     },
     "metadata": {},
     "output_type": "display_data"
    }
   ],
   "source": [
    "corr_matrix = df_training.corr().abs().round(3)\n",
    "display(corr_matrix.style.background_gradient(cmap='coolwarm'))"
   ]
  },
  {
   "cell_type": "code",
   "execution_count": 117,
   "metadata": {},
   "outputs": [
    {
     "name": "stdout",
     "output_type": "stream",
     "text": [
      "(('last_week_price', 'avg_price_weekly'), 1.0)\n",
      "(('avg_price_weekly', 'last_week_price'), 1.0)\n",
      "(('avg_n_transactions_weekly_product', 'n_transactions_last_week_product'), 0.986)\n",
      "(('n_transactions_last_week_product', 'avg_n_transactions_weekly_product'), 0.986)\n",
      "(('avg_returns_weekly', 'sum_returns_last_week'), 0.984)\n",
      "(('sum_returns_last_week', 'avg_returns_weekly'), 0.984)\n",
      "(('n_transactions_last_week_customer', 'sum_spending_last_week'), 0.982)\n",
      "(('sum_spending_last_week', 'n_transactions_last_week_customer'), 0.982)\n",
      "(('avg_n_transactions_weekly_customer', 'avg_spending_weekly'), 0.97)\n",
      "(('avg_spending_weekly', 'avg_n_transactions_weekly_customer'), 0.97)\n"
     ]
    }
   ],
   "source": [
    "s = corr_matrix.unstack()\n",
    "for row in s.sort_values(kind=\"quicksort\", ascending=False).iteritems():\n",
    "    if (row[0][0]!=row[0][1]) & (row[1] > 0.95):\n",
    "        print(row)"
   ]
  },
  {
   "cell_type": "code",
   "execution_count": 118,
   "metadata": {},
   "outputs": [],
   "source": [
    "# FIXME: all plots are showing a continuous line. Something went wrong. The only price changes are rounding errors.\n",
    "# NOTE: No error... Seems like prices are constant.\n",
    "# np.mean([df[df.product_id == i].price.std() != 0 for i in df.product_id.unique()])\n",
    "# #sns.histplot([weekly_transactions_product[weekly_transactions_product.product_id == i].current_price.std() for i in weekly_transactions_product.product_id.unique()])\n",
    "# for product in weekly_transactions_product.product_id.unique():\n",
    "#     show_me = weekly_transactions_product[weekly_transactions_product.product_id == product]\n",
    "#     if show_me.current_price.std() != 0:\n",
    "#     # sns.histplot(show_me.current_price);plt.show()\n",
    "#         sns.lineplot(x=show_me.week, y=show_me.current_price).set(\n",
    "#             title=f\"product_id: {product} min: {show_me.current_price.min()} max: {show_me.current_price.max()}\"\n",
    "#             );plt.show()\n",
    "#weekly_transactions_product[[\"product_id\",\"week\", \"current_price\"]]"
   ]
  },
  {
   "cell_type": "code",
   "execution_count": 119,
   "metadata": {},
   "outputs": [
    {
     "name": "stdout",
     "output_type": "stream",
     "text": [
      "0.0\n"
     ]
    }
   ],
   "source": [
    "for product in df.product_id.unique():\n",
    "    show_me = df[df.product_id == product][[\"week\", \"price\"]]\n",
    "    print(show_me.price.std())\n",
    "    break\n",
    "    if (show_me.price.max() - show_me.price.min()) > 0:\n",
    "        print(f\"product_id: {product} min: {show_me.price.min()} max: {show_me.price.max()}\")\n",
    "\n",
    "    # sns.lineplot(x=show_me.week, y=show_me.price).set(\n",
    "        # title=\n",
    "        # );plt.show()"
   ]
  },
  {
   "cell_type": "code",
   "execution_count": 121,
   "metadata": {},
   "outputs": [],
   "source": [
    "# TODO: Try n_transactions forecast (general trend)\n",
    "# TODO: Try Regressor on current week n_transactions\n"
   ]
  },
  {
   "cell_type": "code",
   "execution_count": 168,
   "metadata": {},
   "outputs": [
    {
     "data": {
      "text/html": [
       "<div>\n",
       "<style scoped>\n",
       "    .dataframe tbody tr th:only-of-type {\n",
       "        vertical-align: middle;\n",
       "    }\n",
       "\n",
       "    .dataframe tbody tr th {\n",
       "        vertical-align: top;\n",
       "    }\n",
       "\n",
       "    .dataframe thead th {\n",
       "        text-align: right;\n",
       "    }\n",
       "</style>\n",
       "<table border=\"1\" class=\"dataframe\">\n",
       "  <thead>\n",
       "    <tr style=\"text-align: right;\">\n",
       "      <th></th>\n",
       "      <th>week</th>\n",
       "      <th>sum_returns</th>\n",
       "      <th>moving_avg_returns_lm</th>\n",
       "    </tr>\n",
       "  </thead>\n",
       "  <tbody>\n",
       "    <tr>\n",
       "      <th>46</th>\n",
       "      <td>48</td>\n",
       "      <td>38719.42</td>\n",
       "      <td>38790.1400</td>\n",
       "    </tr>\n",
       "    <tr>\n",
       "      <th>47</th>\n",
       "      <td>49</td>\n",
       "      <td>39116.56</td>\n",
       "      <td>38964.2075</td>\n",
       "    </tr>\n",
       "    <tr>\n",
       "      <th>48</th>\n",
       "      <td>50</td>\n",
       "      <td>38371.94</td>\n",
       "      <td>38849.4225</td>\n",
       "    </tr>\n",
       "  </tbody>\n",
       "</table>\n",
       "</div>"
      ],
      "text/plain": [
       "    week  sum_returns  moving_avg_returns_lm\n",
       "46    48     38719.42             38790.1400\n",
       "47    49     39116.56             38964.2075\n",
       "48    50     38371.94             38849.4225"
      ]
     },
     "execution_count": 168,
     "metadata": {},
     "output_type": "execute_result"
    }
   ],
   "source": [
    "weekly_returns = df[[\"week\", \"price\"]].groupby(by=\"week\", as_index=False)[\"price\"].sum().rename(columns={\"price\":\"sum_returns\"})\n",
    "weekly_returns[\"moving_avg_returns_lm\"]=weekly_returns.sum_returns.rolling(4).mean()\n",
    "# Make it last weeks data\n",
    "weekly_returns.week = weekly_returns.week + 1\n",
    "weekly_returns.tail(3)"
   ]
  },
  {
   "cell_type": "code",
   "execution_count": 164,
   "metadata": {},
   "outputs": [
    {
     "data": {
      "text/plain": [
       "<AxesSubplot:xlabel='week', ylabel='sum_returns'>"
      ]
     },
     "execution_count": 164,
     "metadata": {},
     "output_type": "execute_result"
    },
    {
     "data": {
      "image/png": "[encoded data removed]",
      "text/plain": [
       "<Figure size 432x288 with 1 Axes>"
      ]
     },
     "metadata": {
      "needs_background": "light"
     },
     "output_type": "display_data"
    }
   ],
   "source": [
    "sns.lineplot(x=weekly_returns.week, y=weekly_returns.sum_returns)\n",
    "sns.lineplot(x=weekly_returns.week, y=weekly_returns.moving_avg_returns_lm)"
   ]
  },
  {
   "cell_type": "code",
   "execution_count": 167,
   "metadata": {},
   "outputs": [
    {
     "data": {
      "text/html": [
       "<div>\n",
       "<style scoped>\n",
       "    .dataframe tbody tr th:only-of-type {\n",
       "        vertical-align: middle;\n",
       "    }\n",
       "\n",
       "    .dataframe tbody tr th {\n",
       "        vertical-align: top;\n",
       "    }\n",
       "\n",
       "    .dataframe thead th {\n",
       "        text-align: right;\n",
       "    }\n",
       "</style>\n",
       "<table border=\"1\" class=\"dataframe\">\n",
       "  <thead>\n",
       "    <tr style=\"text-align: right;\">\n",
       "      <th></th>\n",
       "      <th>week</th>\n",
       "      <th>sum_transactions</th>\n",
       "      <th>moving_avg_transactions_lm</th>\n",
       "    </tr>\n",
       "  </thead>\n",
       "  <tbody>\n",
       "    <tr>\n",
       "      <th>11</th>\n",
       "      <td>2</td>\n",
       "      <td>6320</td>\n",
       "      <td>NaN</td>\n",
       "    </tr>\n",
       "    <tr>\n",
       "      <th>5</th>\n",
       "      <td>3</td>\n",
       "      <td>6359</td>\n",
       "      <td>NaN</td>\n",
       "    </tr>\n",
       "    <tr>\n",
       "      <th>46</th>\n",
       "      <td>4</td>\n",
       "      <td>6175</td>\n",
       "      <td>NaN</td>\n",
       "    </tr>\n",
       "    <tr>\n",
       "      <th>26</th>\n",
       "      <td>5</td>\n",
       "      <td>6278</td>\n",
       "      <td>6283.00</td>\n",
       "    </tr>\n",
       "    <tr>\n",
       "      <th>37</th>\n",
       "      <td>6</td>\n",
       "      <td>6245</td>\n",
       "      <td>6264.25</td>\n",
       "    </tr>\n",
       "  </tbody>\n",
       "</table>\n",
       "</div>"
      ],
      "text/plain": [
       "    week  sum_transactions  moving_avg_transactions_lm\n",
       "11     2              6320                         NaN\n",
       "5      3              6359                         NaN\n",
       "46     4              6175                         NaN\n",
       "26     5              6278                     6283.00\n",
       "37     6              6245                     6264.25"
      ]
     },
     "execution_count": 167,
     "metadata": {},
     "output_type": "execute_result"
    }
   ],
   "source": [
    "\n",
    "weekly_transactions = pd.DataFrame({\n",
    "    \"week\": list(df[\"week\"].value_counts().index),\n",
    "    \"sum_transactions\": df[\"week\"].value_counts().values\n",
    "})\n",
    "weekly_transactions.sort_values(by=\"week\",inplace=True)\n",
    "weekly_transactions[\"moving_avg_transactions_lm\"]=weekly_transactions.sum_transactions.rolling(4).mean()\n",
    "# Make it last weeks data\n",
    "weekly_transactions.week = weekly_transactions.week + 1\n",
    "weekly_transactions.head()"
   ]
  },
  {
   "cell_type": "code",
   "execution_count": 169,
   "metadata": {},
   "outputs": [
    {
     "data": {
      "text/plain": [
       "(49, 3)"
      ]
     },
     "execution_count": 169,
     "metadata": {},
     "output_type": "execute_result"
    }
   ],
   "source": [
    "weekly_transactions.shape"
   ]
  },
  {
   "cell_type": "code",
   "execution_count": 166,
   "metadata": {},
   "outputs": [
    {
     "data": {
      "text/plain": [
       "<AxesSubplot:xlabel='week', ylabel='sum_transactions'>"
      ]
     },
     "execution_count": 166,
     "metadata": {},
     "output_type": "execute_result"
    },
    {
     "data": {
      "image/png": "[encoded data removed]",
      "text/plain": [
       "<Figure size 432x288 with 1 Axes>"
      ]
     },
     "metadata": {
      "needs_background": "light"
     },
     "output_type": "display_data"
    }
   ],
   "source": [
    "sns.lineplot(x=weekly_transactions.week, y=weekly_transactions.sum_transactions)\n",
    "sns.lineplot(x=weekly_transactions.week, y=weekly_transactions.moving_avg_transactions_lm)"
   ]
  },
  {
   "cell_type": "code",
   "execution_count": 170,
   "metadata": {},
   "outputs": [
    {
     "data": {
      "text/html": [
       "<div>\n",
       "<style scoped>\n",
       "    .dataframe tbody tr th:only-of-type {\n",
       "        vertical-align: middle;\n",
       "    }\n",
       "\n",
       "    .dataframe tbody tr th {\n",
       "        vertical-align: top;\n",
       "    }\n",
       "\n",
       "    .dataframe thead th {\n",
       "        text-align: right;\n",
       "    }\n",
       "</style>\n",
       "<table border=\"1\" class=\"dataframe\">\n",
       "  <thead>\n",
       "    <tr style=\"text-align: right;\">\n",
       "      <th></th>\n",
       "      <th>week</th>\n",
       "      <th>sum_returns</th>\n",
       "      <th>moving_avg_returns_lm</th>\n",
       "      <th>sum_transactions</th>\n",
       "      <th>moving_avg_transactions_lm</th>\n",
       "    </tr>\n",
       "  </thead>\n",
       "  <tbody>\n",
       "    <tr>\n",
       "      <th>0</th>\n",
       "      <td>2</td>\n",
       "      <td>38781.01</td>\n",
       "      <td>NaN</td>\n",
       "      <td>6320</td>\n",
       "      <td>NaN</td>\n",
       "    </tr>\n",
       "    <tr>\n",
       "      <th>1</th>\n",
       "      <td>3</td>\n",
       "      <td>39113.79</td>\n",
       "      <td>NaN</td>\n",
       "      <td>6359</td>\n",
       "      <td>NaN</td>\n",
       "    </tr>\n",
       "    <tr>\n",
       "      <th>2</th>\n",
       "      <td>4</td>\n",
       "      <td>37887.53</td>\n",
       "      <td>NaN</td>\n",
       "      <td>6175</td>\n",
       "      <td>NaN</td>\n",
       "    </tr>\n",
       "    <tr>\n",
       "      <th>3</th>\n",
       "      <td>5</td>\n",
       "      <td>38667.74</td>\n",
       "      <td>38612.5175</td>\n",
       "      <td>6278</td>\n",
       "      <td>6283.00</td>\n",
       "    </tr>\n",
       "    <tr>\n",
       "      <th>4</th>\n",
       "      <td>6</td>\n",
       "      <td>38469.89</td>\n",
       "      <td>38534.7375</td>\n",
       "      <td>6245</td>\n",
       "      <td>6264.25</td>\n",
       "    </tr>\n",
       "  </tbody>\n",
       "</table>\n",
       "</div>"
      ],
      "text/plain": [
       "   week  sum_returns  moving_avg_returns_lm  sum_transactions  \\\n",
       "0     2     38781.01                    NaN              6320   \n",
       "1     3     39113.79                    NaN              6359   \n",
       "2     4     37887.53                    NaN              6175   \n",
       "3     5     38667.74             38612.5175              6278   \n",
       "4     6     38469.89             38534.7375              6245   \n",
       "\n",
       "   moving_avg_transactions_lm  \n",
       "0                         NaN  \n",
       "1                         NaN  \n",
       "2                         NaN  \n",
       "3                     6283.00  \n",
       "4                     6264.25  "
      ]
     },
     "execution_count": 170,
     "metadata": {},
     "output_type": "execute_result"
    }
   ],
   "source": [
    "weekly_aggregation = weekly_returns.merge(weekly_transactions, how=\"left\", on=\"week\", validate=\"1:1\")\n",
    "weekly_aggregation.head()"
   ]
  },
  {
   "cell_type": "code",
   "execution_count": 175,
   "metadata": {},
   "outputs": [
    {
     "data": {
      "text/plain": [
       "5.76"
      ]
     },
     "execution_count": 175,
     "metadata": {},
     "output_type": "execute_result"
    }
   ],
   "source": [
    "merged[merged.product_id == 0].price.max()"
   ]
  }
 ],
 "metadata": {
  "interpreter": {
   "hash": "e8f3b2c7d50702eb6cfa394ab0109290f078033daba50bedf970bce07023fb35"
  },
  "kernelspec": {
   "display_name": "Python 3 (ipykernel)",
   "language": "python",
   "name": "python3"
  },
  "language_info": {
   "codemirror_mode": {
    "name": "ipython",
    "version": 3
   },
   "file_extension": ".py",
   "mimetype": "text/x-python",
   "name": "python",
   "nbconvert_exporter": "python",
   "pygments_lexer": "ipython3",
   "version": "3.8.10"
  }
 },
 "nbformat": 4,
 "nbformat_minor": 4
}
