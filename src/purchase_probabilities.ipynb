{
 "cells": [
  {
   "cell_type": "markdown",
   "metadata": {},
   "source": [
    "# Predicting Purchase Probabilities\n",
    "\n",
    "The data we are using is a history of customer purchases in a store for calendar weeks 1 to 49 of the same year for\n",
    "2000 customers and an assortment of 100 products and we should predict the purchase probability for each customer product pair in week 50. From the perspective of a binary classifier it means: the data given contains only positive examples."
   ]
  },
  {
   "cell_type": "markdown",
   "metadata": {},
   "source": [
    "## Exploratory Data Analysis\n",
    "\n",
    "Let's have a look on these positive examples first."
   ]
  },
  {
   "cell_type": "code",
   "execution_count": 6,
   "metadata": {},
   "outputs": [],
   "source": [
    "import numpy as np\n",
    "import pandas as pd\n",
    "import seaborn as sns\n",
    "import matplotlib.pyplot as plt"
   ]
  },
  {
   "cell_type": "code",
   "execution_count": 3,
   "metadata": {},
   "outputs": [
    {
     "data": {
      "text/html": [
       "<div>\n",
       "<style scoped>\n",
       "    .dataframe tbody tr th:only-of-type {\n",
       "        vertical-align: middle;\n",
       "    }\n",
       "\n",
       "    .dataframe tbody tr th {\n",
       "        vertical-align: top;\n",
       "    }\n",
       "\n",
       "    .dataframe thead th {\n",
       "        text-align: right;\n",
       "    }\n",
       "</style>\n",
       "<table border=\"1\" class=\"dataframe\">\n",
       "  <thead>\n",
       "    <tr style=\"text-align: right;\">\n",
       "      <th></th>\n",
       "      <th>customer_id</th>\n",
       "      <th>product_id</th>\n",
       "      <th>price</th>\n",
       "      <th>week</th>\n",
       "    </tr>\n",
       "  </thead>\n",
       "  <tbody>\n",
       "    <tr>\n",
       "      <th>0</th>\n",
       "      <td>0</td>\n",
       "      <td>5</td>\n",
       "      <td>7.03</td>\n",
       "      <td>1</td>\n",
       "    </tr>\n",
       "    <tr>\n",
       "      <th>1</th>\n",
       "      <td>0</td>\n",
       "      <td>39</td>\n",
       "      <td>4.71</td>\n",
       "      <td>1</td>\n",
       "    </tr>\n",
       "    <tr>\n",
       "      <th>2</th>\n",
       "      <td>0</td>\n",
       "      <td>53</td>\n",
       "      <td>7.61</td>\n",
       "      <td>1</td>\n",
       "    </tr>\n",
       "  </tbody>\n",
       "</table>\n",
       "</div>"
      ],
      "text/plain": [
       "   customer_id  product_id  price  week\n",
       "0            0           5   7.03     1\n",
       "1            0          39   4.71     1\n",
       "2            0          53   7.61     1"
      ]
     },
     "execution_count": 3,
     "metadata": {},
     "output_type": "execute_result"
    }
   ],
   "source": [
    "df = pd.read_csv(\"data/train.csv\")\n",
    "(df.shape)\n",
    "df.head(3)"
   ]
  },
  {
   "cell_type": "markdown",
   "metadata": {},
   "source": [
    "Are there duplicates or NaNs?"
   ]
  },
  {
   "cell_type": "code",
   "execution_count": 5,
   "metadata": {},
   "outputs": [
    {
     "name": "stdout",
     "output_type": "stream",
     "text": [
      "0 0\n"
     ]
    }
   ],
   "source": [
    "print(len(df) - len(df.drop_duplicates()), df.isna().sum().sum())"
   ]
  },
  {
   "cell_type": "markdown",
   "metadata": {},
   "source": [
    "All good... Do prices change?"
   ]
  },
  {
   "cell_type": "code",
   "execution_count": 7,
   "metadata": {},
   "outputs": [
    {
     "data": {
      "text/plain": [
       "0.0"
      ]
     },
     "execution_count": 7,
     "metadata": {},
     "output_type": "execute_result"
    }
   ],
   "source": [
    "np.mean([(df[df.product_id == i].price.max() - df[df.product_id == i].price.min()) > 0 for i in df.product_id.unique()])"
   ]
  },
  {
   "cell_type": "markdown",
   "metadata": {},
   "source": [
    "It's a bit odd. But it looks like prices are constant. It could be that transactions have been successful due to some promotions and we only know reduced prices. On the other hand it might be a matter of data design not to make this problem more complex. Otherwise we would have tried time series forecasting for prices."
   ]
  },
  {
   "cell_type": "markdown",
   "metadata": {},
   "source": [
    "How many transactions does each customer within 49 weeks?"
   ]
  },
  {
   "cell_type": "code",
   "execution_count": 8,
   "metadata": {},
   "outputs": [
    {
     "data": {
      "image/png": "[encoded data removed]",
      "text/plain": [
       "<Figure size 432x288 with 1 Axes>"
      ]
     },
     "metadata": {
      "needs_background": "light"
     },
     "output_type": "display_data"
    }
   ],
   "source": [
    "n_transactions_per_customer = [len(df[df.customer_id==i]) for i in df.customer_id.unique()]\n",
    "sns.histplot(n_transactions_per_customer).set(\n",
    "    title=f\"\"\"Number of transactions per customer with an average of {\n",
    "        round(np.mean(n_transactions_per_customer))\n",
    "        }\"\"\"\n",
    "    );plt.show()"
   ]
  },
  {
   "cell_type": "markdown",
   "metadata": {},
   "source": [
    "In average each customer has roughly 154 transactions (purchases). Data is normally distributed."
   ]
  },
  {
   "cell_type": "markdown",
   "metadata": {},
   "source": [
    "How much did each customer spend within 49 weeks?"
   ]
  },
  {
   "cell_type": "code",
   "execution_count": 9,
   "metadata": {},
   "outputs": [
    {
     "data": {
      "image/png": "[encoded data removed]",
      "text/plain": [
       "<Figure size 432x288 with 1 Axes>"
      ]
     },
     "metadata": {
      "needs_background": "light"
     },
     "output_type": "display_data"
    }
   ],
   "source": [
    "customer_spend = [df[df.customer_id==i].price.sum() for i in df.customer_id.unique()]\n",
    "sns.histplot(customer_spend).set(\n",
    "    title=f\"\"\"Customer spendings with an average of {\n",
    "        round(np.mean(customer_spend))\n",
    "        }\"\"\"\n",
    "    );plt.show()"
   ]
  },
  {
   "cell_type": "markdown",
   "metadata": {},
   "source": [
    "Similar picture like transactions with an average of 949 EUR spent within 49 weeks."
   ]
  },
  {
   "cell_type": "markdown",
   "metadata": {},
   "source": [
    "Did customers go to the store every week?"
   ]
  },
  {
   "cell_type": "code",
   "execution_count": 12,
   "metadata": {},
   "outputs": [
    {
     "data": {
      "image/png": "[encoded data removed]",
      "text/plain": [
       "<Figure size 432x288 with 1 Axes>"
      ]
     },
     "metadata": {
      "needs_background": "light"
     },
     "output_type": "display_data"
    }
   ],
   "source": [
    "n_weeks_with_transactions = [len(df[df.customer_id==i].groupby(by=\"week\")) for i in df.customer_id.unique()]\n",
    "sns.histplot(n_weeks_with_transactions).set(\n",
    "    title=f\"\"\"Number of weeks with transactions with an average of {\n",
    "        round(np.mean(n_weeks_with_transactions))\n",
    "        }\"\"\"\n",
    "    );plt.show()"
   ]
  },
  {
   "cell_type": "markdown",
   "metadata": {},
   "source": [
    "It looks like the majority of customers went almost every week to the store (could be me). However, a few didn't come that often. Maybe they live a bit further away or they've been in vacation. We don't know."
   ]
  },
  {
   "cell_type": "markdown",
   "metadata": {},
   "source": [
    "How many purchases happened for each product within 49 weeks?"
   ]
  },
  {
   "cell_type": "code",
   "execution_count": 13,
   "metadata": {},
   "outputs": [
    {
     "data": {
      "image/png": "[encoded data removed]",
      "text/plain": [
       "<Figure size 432x288 with 1 Axes>"
      ]
     },
     "metadata": {
      "needs_background": "light"
     },
     "output_type": "display_data"
    }
   ],
   "source": [
    "n_transactions_per_product = [len(df[df.product_id==i]) for i in df.product_id.unique()]\n",
    "sns.histplot(n_transactions_per_product, bins=25).set(\n",
    "    title=f\"\"\"Number of transactions per product with an average of {\n",
    "        round(np.mean(n_transactions_per_product))\n",
    "        }\"\"\"\n",
    "    );plt.show()"
   ]
  },
  {
   "cell_type": "markdown",
   "metadata": {},
   "source": [
    "It looks like the distribution of purchases on product side are a bit right-skewed. A possible explanation might be that some products need to be bought more frequently than others. Imagine a super market. Vegetables you probably want to buy fresh at least once a week, whereas you don't by non-food products like pans that often."
   ]
  },
  {
   "cell_type": "markdown",
   "metadata": {},
   "source": [
    "How do returns for ech product look like?"
   ]
  },
  {
   "cell_type": "code",
   "execution_count": 14,
   "metadata": {},
   "outputs": [
    {
     "data": {
      "image/png": "[encoded data removed]",
      "text/plain": [
       "<Figure size 432x288 with 1 Axes>"
      ]
     },
     "metadata": {
      "needs_background": "light"
     },
     "output_type": "display_data"
    }
   ],
   "source": [
    "returns_per_product = [df[df.product_id==i].price.sum() for i in df.product_id.unique()]\n",
    "sns.histplot(returns_per_product, bins=20).set(\n",
    "    title=f\"\"\"Returns per product with an average of {\n",
    "        round(np.mean(returns_per_product))\n",
    "        }\"\"\"\n",
    "    );plt.show()"
   ]
  },
  {
   "cell_type": "markdown",
   "metadata": {},
   "source": [
    "It's a similar picture like with transactions."
   ]
  },
  {
   "cell_type": "markdown",
   "metadata": {},
   "source": [
    "How do returns and transactions overall look like for each week?"
   ]
  },
  {
   "cell_type": "code",
   "execution_count": 15,
   "metadata": {},
   "outputs": [
    {
     "data": {
      "text/html": [
       "<div>\n",
       "<style scoped>\n",
       "    .dataframe tbody tr th:only-of-type {\n",
       "        vertical-align: middle;\n",
       "    }\n",
       "\n",
       "    .dataframe tbody tr th {\n",
       "        vertical-align: top;\n",
       "    }\n",
       "\n",
       "    .dataframe thead th {\n",
       "        text-align: right;\n",
       "    }\n",
       "</style>\n",
       "<table border=\"1\" class=\"dataframe\">\n",
       "  <thead>\n",
       "    <tr style=\"text-align: right;\">\n",
       "      <th></th>\n",
       "      <th>week</th>\n",
       "      <th>sum_returns</th>\n",
       "      <th>moving_avg_returns_lm</th>\n",
       "    </tr>\n",
       "  </thead>\n",
       "  <tbody>\n",
       "    <tr>\n",
       "      <th>46</th>\n",
       "      <td>48</td>\n",
       "      <td>38719.42</td>\n",
       "      <td>38790.1400</td>\n",
       "    </tr>\n",
       "    <tr>\n",
       "      <th>47</th>\n",
       "      <td>49</td>\n",
       "      <td>39116.56</td>\n",
       "      <td>38964.2075</td>\n",
       "    </tr>\n",
       "    <tr>\n",
       "      <th>48</th>\n",
       "      <td>50</td>\n",
       "      <td>38371.94</td>\n",
       "      <td>38849.4225</td>\n",
       "    </tr>\n",
       "  </tbody>\n",
       "</table>\n",
       "</div>"
      ],
      "text/plain": [
       "    week  sum_returns  moving_avg_returns_lm\n",
       "46    48     38719.42             38790.1400\n",
       "47    49     39116.56             38964.2075\n",
       "48    50     38371.94             38849.4225"
      ]
     },
     "execution_count": 15,
     "metadata": {},
     "output_type": "execute_result"
    }
   ],
   "source": [
    "weekly_returns = df[[\"week\", \"price\"]].groupby(by=\"week\", as_index=False)[\"price\"].sum().rename(columns={\"price\":\"sum_returns\"})\n",
    "weekly_returns[\"moving_avg_returns_lm\"]=weekly_returns.sum_returns.rolling(4).mean()\n",
    "\n",
    "# Make it last weeks data\n",
    "weekly_returns.week = weekly_returns.week + 1\n",
    "weekly_returns.tail(3)"
   ]
  },
  {
   "cell_type": "code",
   "execution_count": 16,
   "metadata": {},
   "outputs": [
    {
     "data": {
      "image/png": "[encoded data removed]",
      "text/plain": [
       "<Figure size 432x288 with 1 Axes>"
      ]
     },
     "metadata": {
      "needs_background": "light"
     },
     "output_type": "display_data"
    }
   ],
   "source": [
    "sns.lineplot(x=weekly_returns.week, y=weekly_returns.sum_returns)\n",
    "sns.lineplot(x=weekly_returns.week, y=weekly_returns.moving_avg_returns_lm)\n",
    "plt.show()"
   ]
  },
  {
   "cell_type": "markdown",
   "metadata": {},
   "source": [
    "Turnover goes up and down. And yet, having the general trend and last weeks data might be helpful for predictions, since there is often a strong autocorrelation especially within the first lag of time series."
   ]
  },
  {
   "cell_type": "code",
   "execution_count": 17,
   "metadata": {},
   "outputs": [
    {
     "data": {
      "text/html": [
       "<div>\n",
       "<style scoped>\n",
       "    .dataframe tbody tr th:only-of-type {\n",
       "        vertical-align: middle;\n",
       "    }\n",
       "\n",
       "    .dataframe tbody tr th {\n",
       "        vertical-align: top;\n",
       "    }\n",
       "\n",
       "    .dataframe thead th {\n",
       "        text-align: right;\n",
       "    }\n",
       "</style>\n",
       "<table border=\"1\" class=\"dataframe\">\n",
       "  <thead>\n",
       "    <tr style=\"text-align: right;\">\n",
       "      <th></th>\n",
       "      <th>week</th>\n",
       "      <th>sum_transactions</th>\n",
       "      <th>moving_avg_transactions_lm</th>\n",
       "    </tr>\n",
       "  </thead>\n",
       "  <tbody>\n",
       "    <tr>\n",
       "      <th>11</th>\n",
       "      <td>2</td>\n",
       "      <td>6320</td>\n",
       "      <td>NaN</td>\n",
       "    </tr>\n",
       "    <tr>\n",
       "      <th>5</th>\n",
       "      <td>3</td>\n",
       "      <td>6359</td>\n",
       "      <td>NaN</td>\n",
       "    </tr>\n",
       "    <tr>\n",
       "      <th>46</th>\n",
       "      <td>4</td>\n",
       "      <td>6175</td>\n",
       "      <td>NaN</td>\n",
       "    </tr>\n",
       "    <tr>\n",
       "      <th>26</th>\n",
       "      <td>5</td>\n",
       "      <td>6278</td>\n",
       "      <td>6283.00</td>\n",
       "    </tr>\n",
       "    <tr>\n",
       "      <th>37</th>\n",
       "      <td>6</td>\n",
       "      <td>6245</td>\n",
       "      <td>6264.25</td>\n",
       "    </tr>\n",
       "  </tbody>\n",
       "</table>\n",
       "</div>"
      ],
      "text/plain": [
       "    week  sum_transactions  moving_avg_transactions_lm\n",
       "11     2              6320                         NaN\n",
       "5      3              6359                         NaN\n",
       "46     4              6175                         NaN\n",
       "26     5              6278                     6283.00\n",
       "37     6              6245                     6264.25"
      ]
     },
     "execution_count": 17,
     "metadata": {},
     "output_type": "execute_result"
    }
   ],
   "source": [
    "weekly_transactions = pd.DataFrame({\n",
    "    \"week\": list(df[\"week\"].value_counts().index),\n",
    "    \"sum_transactions\": df[\"week\"].value_counts().values\n",
    "})\n",
    "weekly_transactions.sort_values(by=\"week\",inplace=True)\n",
    "weekly_transactions[\"moving_avg_transactions_lm\"]=weekly_transactions.sum_transactions.rolling(4).mean()\n",
    "# Make it last weeks data\n",
    "weekly_transactions.week = weekly_transactions.week + 1\n",
    "weekly_transactions.head()"
   ]
  },
  {
   "cell_type": "code",
   "execution_count": 18,
   "metadata": {},
   "outputs": [
    {
     "data": {
      "image/png": "[encoded data removed]",
      "text/plain": [
       "<Figure size 432x288 with 1 Axes>"
      ]
     },
     "metadata": {
      "needs_background": "light"
     },
     "output_type": "display_data"
    }
   ],
   "source": [
    "sns.lineplot(x=weekly_transactions.week, y=weekly_transactions.sum_transactions)\n",
    "sns.lineplot(x=weekly_transactions.week, y=weekly_transactions.moving_avg_transactions_lm)\n",
    "plt.show()"
   ]
  },
  {
   "cell_type": "markdown",
   "metadata": {},
   "source": [
    "Basicially same like turnover above... just another scale."
   ]
  },
  {
   "cell_type": "markdown",
   "metadata": {},
   "source": [
    "## Feature Engineering\n",
    "\n",
    "- ideas behind\n",
    "- caveats \n",
    "\n",
    "Here we looked at 3 possible sources for feature generation: customers, products, weeks. For *customers and products* we can create static features (constant for each week e.g. `avg_transactions_per_week`) and dynamic features (change every week e.g. `sum_transactions_last_week`). The dynamic features are basically lag-features. The idea is also used in time series problems. Data generated for each *week* changes of course. We tried to catch the general movement of the market with it."
   ]
  },
  {
   "cell_type": "markdown",
   "metadata": {},
   "source": [
    "Let's get an overview for features generated."
   ]
  },
  {
   "cell_type": "code",
   "execution_count": 19,
   "metadata": {},
   "outputs": [
    {
     "name": "stdout",
     "output_type": "stream",
     "text": [
      "Computing the cosine similarity matrix...\n",
      "Done computing similarity matrix.\n",
      "(9600000, 20)\n"
     ]
    },
    {
     "data": {
      "text/html": [
       "<div>\n",
       "<style scoped>\n",
       "    .dataframe tbody tr th:only-of-type {\n",
       "        vertical-align: middle;\n",
       "    }\n",
       "\n",
       "    .dataframe tbody tr th {\n",
       "        vertical-align: top;\n",
       "    }\n",
       "\n",
       "    .dataframe thead th {\n",
       "        text-align: right;\n",
       "    }\n",
       "</style>\n",
       "<table border=\"1\" class=\"dataframe\">\n",
       "  <thead>\n",
       "    <tr style=\"text-align: right;\">\n",
       "      <th></th>\n",
       "      <th>label</th>\n",
       "      <th>avg_n_transactions_weekly_customer</th>\n",
       "      <th>avg_spending_weekly</th>\n",
       "      <th>highest_price_paid</th>\n",
       "      <th>lowest_price_paid</th>\n",
       "      <th>pays_above_avg</th>\n",
       "      <th>sum_spending_last_week</th>\n",
       "      <th>n_transactions_last_week_customer</th>\n",
       "      <th>current_price</th>\n",
       "      <th>avg_n_transactions_weekly_product</th>\n",
       "      <th>avg_returns_weekly</th>\n",
       "      <th>costs_above_avg</th>\n",
       "      <th>sum_returns_last_week</th>\n",
       "      <th>n_transactions_last_week_product</th>\n",
       "      <th>sum_returns_last_week_general</th>\n",
       "      <th>moving_avg_returns_lm</th>\n",
       "      <th>sum_transactions_last_week_general</th>\n",
       "      <th>moving_avg_transactions_lm</th>\n",
       "      <th>within_budget</th>\n",
       "      <th>ratings</th>\n",
       "    </tr>\n",
       "  </thead>\n",
       "  <tbody>\n",
       "    <tr>\n",
       "      <th>200000</th>\n",
       "      <td>0</td>\n",
       "      <td>2.489796</td>\n",
       "      <td>15.98551</td>\n",
       "      <td>7.86</td>\n",
       "      <td>4.52</td>\n",
       "      <td>0</td>\n",
       "      <td>25.39</td>\n",
       "      <td>4</td>\n",
       "      <td>5.76</td>\n",
       "      <td>40.285714</td>\n",
       "      <td>232.045714</td>\n",
       "      <td>0</td>\n",
       "      <td>207.36</td>\n",
       "      <td>36</td>\n",
       "      <td>38781.01</td>\n",
       "      <td>38612.5175</td>\n",
       "      <td>6320</td>\n",
       "      <td>6283</td>\n",
       "      <td>1</td>\n",
       "      <td>0.675686</td>\n",
       "    </tr>\n",
       "    <tr>\n",
       "      <th>200001</th>\n",
       "      <td>0</td>\n",
       "      <td>2.489796</td>\n",
       "      <td>15.98551</td>\n",
       "      <td>7.86</td>\n",
       "      <td>4.52</td>\n",
       "      <td>0</td>\n",
       "      <td>25.39</td>\n",
       "      <td>4</td>\n",
       "      <td>6.33</td>\n",
       "      <td>44.795918</td>\n",
       "      <td>283.558163</td>\n",
       "      <td>1</td>\n",
       "      <td>303.84</td>\n",
       "      <td>48</td>\n",
       "      <td>38781.01</td>\n",
       "      <td>38612.5175</td>\n",
       "      <td>6320</td>\n",
       "      <td>6283</td>\n",
       "      <td>1</td>\n",
       "      <td>0.605860</td>\n",
       "    </tr>\n",
       "    <tr>\n",
       "      <th>200002</th>\n",
       "      <td>0</td>\n",
       "      <td>2.489796</td>\n",
       "      <td>15.98551</td>\n",
       "      <td>7.86</td>\n",
       "      <td>4.52</td>\n",
       "      <td>0</td>\n",
       "      <td>25.39</td>\n",
       "      <td>4</td>\n",
       "      <td>7.81</td>\n",
       "      <td>32.306122</td>\n",
       "      <td>252.310816</td>\n",
       "      <td>1</td>\n",
       "      <td>234.30</td>\n",
       "      <td>30</td>\n",
       "      <td>38781.01</td>\n",
       "      <td>38612.5175</td>\n",
       "      <td>6320</td>\n",
       "      <td>6283</td>\n",
       "      <td>1</td>\n",
       "      <td>0.782352</td>\n",
       "    </tr>\n",
       "  </tbody>\n",
       "</table>\n",
       "</div>"
      ],
      "text/plain": [
       "        label  avg_n_transactions_weekly_customer  avg_spending_weekly  \\\n",
       "200000      0                            2.489796             15.98551   \n",
       "200001      0                            2.489796             15.98551   \n",
       "200002      0                            2.489796             15.98551   \n",
       "\n",
       "        highest_price_paid  lowest_price_paid  pays_above_avg  \\\n",
       "200000                7.86               4.52               0   \n",
       "200001                7.86               4.52               0   \n",
       "200002                7.86               4.52               0   \n",
       "\n",
       "        sum_spending_last_week  n_transactions_last_week_customer  \\\n",
       "200000                   25.39                                  4   \n",
       "200001                   25.39                                  4   \n",
       "200002                   25.39                                  4   \n",
       "\n",
       "        current_price  avg_n_transactions_weekly_product  avg_returns_weekly  \\\n",
       "200000           5.76                          40.285714          232.045714   \n",
       "200001           6.33                          44.795918          283.558163   \n",
       "200002           7.81                          32.306122          252.310816   \n",
       "\n",
       "        costs_above_avg  sum_returns_last_week  \\\n",
       "200000                0                 207.36   \n",
       "200001                1                 303.84   \n",
       "200002                1                 234.30   \n",
       "\n",
       "        n_transactions_last_week_product  sum_returns_last_week_general  \\\n",
       "200000                                36                       38781.01   \n",
       "200001                                48                       38781.01   \n",
       "200002                                30                       38781.01   \n",
       "\n",
       "        moving_avg_returns_lm  sum_transactions_last_week_general  \\\n",
       "200000             38612.5175                                6320   \n",
       "200001             38612.5175                                6320   \n",
       "200002             38612.5175                                6320   \n",
       "\n",
       "        moving_avg_transactions_lm  within_budget   ratings  \n",
       "200000                        6283              1  0.675686  \n",
       "200001                        6283              1  0.605860  \n",
       "200002                        6283              1  0.782352  "
      ]
     },
     "execution_count": 19,
     "metadata": {},
     "output_type": "execute_result"
    }
   ],
   "source": [
    "import utils as utils\n",
    "\n",
    "df_training = utils.create_training_data()\n",
    "print(df_training.shape)\n",
    "df_training.head(3)"
   ]
  },
  {
   "cell_type": "markdown",
   "metadata": {},
   "source": [
    "Successful purchases have the `label` 1. Purchases that did not happen are 0. This is (unfortunately) the majority of all customer-product combinations. So our classes are highly imbalanced."
   ]
  },
  {
   "cell_type": "code",
   "execution_count": 20,
   "metadata": {},
   "outputs": [
    {
     "data": {
      "text/plain": [
       "0.031408125"
      ]
     },
     "execution_count": 20,
     "metadata": {},
     "output_type": "execute_result"
    }
   ],
   "source": [
    "df_training.label.mean()"
   ]
  },
  {
   "cell_type": "markdown",
   "metadata": {},
   "source": [
    "Most magic is basically happening in `utils.make_raw_data()` which combines all featues generated. We excluded product_id and customer_id in training data, since these things may change e.g. new products, new customers. However using things like average spending etc may not work well for new customers and/or products. A way to mitigate this might be some scaling over time by always looking at the last month or 2 weeks to build such features. Here we didn't go that far."
   ]
  },
  {
   "cell_type": "code",
   "execution_count": 22,
   "metadata": {},
   "outputs": [
    {
     "name": "stdout",
     "output_type": "stream",
     "text": [
      "Help on function make_raw_data in module utils:\n",
      "\n",
      "make_raw_data() -> pandas.core.frame.DataFrame\n",
      "    Creates a complete data set by combining all methods. In addition it also adds predicted\n",
      "    user-product ratings as a feature. This function also aligns some data types\n",
      "    \n",
      "    Returns\n",
      "    -------\n",
      "    pd.DataFrame\n",
      "        Complete dataset (week 2-50)\n",
      "\n"
     ]
    }
   ],
   "source": [
    "help(utils.make_raw_data)"
   ]
  },
  {
   "cell_type": "markdown",
   "metadata": {},
   "source": [
    "Most time was spent on feature engineering. Used models improved from AUC 0.61 to 0.79 max. Let's have a look at correlations."
   ]
  },
  {
   "cell_type": "code",
   "execution_count": null,
   "metadata": {},
   "outputs": [],
   "source": [
    "# TODO add correlation plot"
   ]
  },
  {
   "cell_type": "markdown",
   "metadata": {},
   "source": [
    "## Modeling\n",
    "\n",
    "- Simple recommender as input feature\n",
    "- Classifier"
   ]
  },
  {
   "cell_type": "markdown",
   "metadata": {},
   "source": [
    "## Conclusion"
   ]
  },
  {
   "cell_type": "markdown",
   "metadata": {},
   "source": [
    "- model okisch\n",
    "- room for improvement"
   ]
  },
  {
   "cell_type": "markdown",
   "metadata": {},
   "source": []
  }
 ],
 "metadata": {
  "interpreter": {
   "hash": "e8f3b2c7d50702eb6cfa394ab0109290f078033daba50bedf970bce07023fb35"
  },
  "kernelspec": {
   "display_name": "Python 3.8.10 64-bit ('smp')",
   "language": "python",
   "name": "python3"
  },
  "language_info": {
   "codemirror_mode": {
    "name": "ipython",
    "version": 3
   },
   "file_extension": ".py",
   "mimetype": "text/x-python",
   "name": "python",
   "nbconvert_exporter": "python",
   "pygments_lexer": "ipython3",
   "version": "3.8.10"
  },
  "orig_nbformat": 4
 },
 "nbformat": 4,
 "nbformat_minor": 2
}
