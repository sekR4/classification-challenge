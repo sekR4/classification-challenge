{
 "cells": [
  {
   "cell_type": "code",
   "execution_count": 1,
   "metadata": {},
   "outputs": [],
   "source": [
    "import pandas as pd\n",
    "from collections import Counter\n",
    "from imblearn.under_sampling import RandomUnderSampler"
   ]
  },
  {
   "cell_type": "markdown",
   "metadata": {},
   "source": [
    "# Undersampling\n",
    "Since classes are extremely imbalanced, we'll do some undersampling and check if this leads us to some performance improvements."
   ]
  },
  {
   "cell_type": "code",
   "execution_count": 2,
   "metadata": {},
   "outputs": [
    {
     "data": {
      "text/plain": [
       "(9600000, 19)"
      ]
     },
     "execution_count": 2,
     "metadata": {},
     "output_type": "execute_result"
    }
   ],
   "source": [
    "df_training = pd.read_parquet(\"data/training_02.parquet\")\n",
    "df_training.shape"
   ]
  },
  {
   "cell_type": "code",
   "execution_count": 3,
   "metadata": {},
   "outputs": [],
   "source": [
    "seed = 1"
   ]
  },
  {
   "cell_type": "code",
   "execution_count": 4,
   "metadata": {},
   "outputs": [
    {
     "name": "stdout",
     "output_type": "stream",
     "text": [
      "(1920000, 19) 0.03167864583333333\n",
      "(7680000, 19) 0.031340494791666666\n"
     ]
    }
   ],
   "source": [
    "# Create a Test Set to see, if undersampling didn't create another bias\n",
    "df_test = df_training.sample(frac=0.20, random_state=seed)\n",
    "df_test.to_parquet(\"data/test_02.parquet\")\n",
    "print(df_test.shape, df_test.label.mean())\n",
    "\n",
    "df_training = df_training[~df_training.index.isin(df_test.index)]\n",
    "print(df_training.shape, df_training.label.mean())"
   ]
  },
  {
   "cell_type": "code",
   "execution_count": 5,
   "metadata": {},
   "outputs": [],
   "source": [
    "X, y = df_training[df_training.columns[1:]], df_training[df_training.columns[0]]"
   ]
  },
  {
   "cell_type": "code",
   "execution_count": 6,
   "metadata": {},
   "outputs": [
    {
     "data": {
      "text/plain": [
       "Counter({0: 7439305, 1: 240695})"
      ]
     },
     "execution_count": 6,
     "metadata": {},
     "output_type": "execute_result"
    }
   ],
   "source": [
    "Counter(y)"
   ]
  },
  {
   "cell_type": "code",
   "execution_count": 7,
   "metadata": {},
   "outputs": [],
   "source": [
    "Sampler = RandomUnderSampler(random_state=seed, sampling_strategy=0.1)"
   ]
  },
  {
   "cell_type": "code",
   "execution_count": 8,
   "metadata": {},
   "outputs": [
    {
     "data": {
      "text/plain": [
       "(Counter({0: 2406950, 1: 240695}), 0.09090909090909091)"
      ]
     },
     "execution_count": 8,
     "metadata": {},
     "output_type": "execute_result"
    }
   ],
   "source": [
    "X_res, y_res = Sampler.fit_resample(X, y)\n",
    "Counter(y_res),y_res.mean()"
   ]
  },
  {
   "cell_type": "code",
   "execution_count": 9,
   "metadata": {},
   "outputs": [
    {
     "data": {
      "text/plain": [
       "0.34474544270833335"
      ]
     },
     "execution_count": 9,
     "metadata": {},
     "output_type": "execute_result"
    }
   ],
   "source": [
    "len(X_res)/len(X)"
   ]
  },
  {
   "cell_type": "code",
   "execution_count": 10,
   "metadata": {},
   "outputs": [],
   "source": [
    "pd.concat([y_res, X_res], axis=1).to_parquet(\"data/training_02_resampled.parquet\")"
   ]
  }
 ],
 "metadata": {
  "interpreter": {
   "hash": "e8f3b2c7d50702eb6cfa394ab0109290f078033daba50bedf970bce07023fb35"
  },
  "kernelspec": {
   "display_name": "Python 3.8.10 64-bit ('smp')",
   "language": "python",
   "name": "python3"
  },
  "language_info": {
   "codemirror_mode": {
    "name": "ipython",
    "version": 3
   },
   "file_extension": ".py",
   "mimetype": "text/x-python",
   "name": "python",
   "nbconvert_exporter": "python",
   "pygments_lexer": "ipython3",
   "version": "3.8.10"
  },
  "orig_nbformat": 4
 },
 "nbformat": 4,
 "nbformat_minor": 2
}
